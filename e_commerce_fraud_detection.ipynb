{
  "nbformat": 4,
  "nbformat_minor": 0,
  "metadata": {
    "colab": {
      "provenance": [],
      "machine_shape": "hm",
      "gpuType": "T4",
      "mount_file_id": "1ImM0AZt4GIPnlzuQ0sogEDIJNXC_Gk94",
      "authorship_tag": "ABX9TyP1LzmUvz6x2tUja3OC7k+H",
      "include_colab_link": true
    },
    "kernelspec": {
      "name": "python3",
      "display_name": "Python 3"
    },
    "language_info": {
      "name": "python"
    },
    "accelerator": "GPU"
  },
  "cells": [
    {
      "cell_type": "markdown",
      "metadata": {
        "id": "view-in-github",
        "colab_type": "text"
      },
      "source": [
        "<a href=\"https://colab.research.google.com/github/SevilayMuni/e-commerce-fraud-detection/blob/main/e_commerce_fraud_detection.ipynb\" target=\"_parent\"><img src=\"https://colab.research.google.com/assets/colab-badge.svg\" alt=\"Open In Colab\"/></a>"
      ]
    },
    {
      "cell_type": "markdown",
      "source": [
        "# Fraud Detection from Customer Transactions Project\n",
        "The data comes from Vesta's real-world e-commerce transactions."
      ],
      "metadata": {
        "id": "1r5gP_ByCRqj"
      }
    },
    {
      "cell_type": "markdown",
      "source": [
        "**Problem Definition**  \n",
        "Objective: Predict whether a transaction is fraudulent (isFraud = 1) or not (isFraud = 0).  \n",
        "Challenges:  \n",
        "Highly imbalanced dataset.  \n",
        "High dimensionality (393 features).  \n",
        "Missing data and masked feature meanings.  \n",
        "Unlabeled or partially labeled data."
      ],
      "metadata": {
        "id": "0GRo6f69DAX8"
      }
    },
    {
      "cell_type": "markdown",
      "source": [
        "## Coding Environment"
      ],
      "metadata": {
        "id": "yr_7S13BDZUA"
      }
    },
    {
      "cell_type": "code",
      "source": [
        "!pip install dask"
      ],
      "metadata": {
        "colab": {
          "base_uri": "https://localhost:8080/"
        },
        "collapsed": true,
        "id": "sdJLPcMtQcz3",
        "outputId": "84c85a78-0276-4515-ce4a-ab8227963e86"
      },
      "execution_count": null,
      "outputs": [
        {
          "output_type": "stream",
          "name": "stdout",
          "text": [
            "Requirement already satisfied: dask in /usr/local/lib/python3.11/dist-packages (2024.11.2)\n",
            "Requirement already satisfied: click>=8.1 in /usr/local/lib/python3.11/dist-packages (from dask) (8.1.8)\n",
            "Requirement already satisfied: cloudpickle>=3.0.0 in /usr/local/lib/python3.11/dist-packages (from dask) (3.1.1)\n",
            "Requirement already satisfied: fsspec>=2021.09.0 in /usr/local/lib/python3.11/dist-packages (from dask) (2024.10.0)\n",
            "Requirement already satisfied: packaging>=20.0 in /usr/local/lib/python3.11/dist-packages (from dask) (24.2)\n",
            "Requirement already satisfied: partd>=1.4.0 in /usr/local/lib/python3.11/dist-packages (from dask) (1.4.2)\n",
            "Requirement already satisfied: pyyaml>=5.3.1 in /usr/local/lib/python3.11/dist-packages (from dask) (6.0.2)\n",
            "Requirement already satisfied: toolz>=0.10.0 in /usr/local/lib/python3.11/dist-packages (from dask) (0.12.1)\n",
            "Requirement already satisfied: importlib-metadata>=4.13.0 in /usr/local/lib/python3.11/dist-packages (from dask) (8.6.1)\n",
            "Requirement already satisfied: zipp>=3.20 in /usr/local/lib/python3.11/dist-packages (from importlib-metadata>=4.13.0->dask) (3.21.0)\n",
            "Requirement already satisfied: locket in /usr/local/lib/python3.11/dist-packages (from partd>=1.4.0->dask) (1.0.0)\n"
          ]
        }
      ]
    },
    {
      "cell_type": "code",
      "source": [
        "!pip install optuna"
      ],
      "metadata": {
        "colab": {
          "base_uri": "https://localhost:8080/"
        },
        "collapsed": true,
        "id": "W3QFRGM3uro0",
        "outputId": "8847fc7d-18f3-4bcf-aa10-e104e9c17122"
      },
      "execution_count": null,
      "outputs": [
        {
          "output_type": "stream",
          "name": "stdout",
          "text": [
            "Collecting optuna\n",
            "  Downloading optuna-4.2.1-py3-none-any.whl.metadata (17 kB)\n",
            "Collecting alembic>=1.5.0 (from optuna)\n",
            "  Downloading alembic-1.14.1-py3-none-any.whl.metadata (7.4 kB)\n",
            "Collecting colorlog (from optuna)\n",
            "  Downloading colorlog-6.9.0-py3-none-any.whl.metadata (10 kB)\n",
            "Requirement already satisfied: numpy in /usr/local/lib/python3.11/dist-packages (from optuna) (1.26.4)\n",
            "Requirement already satisfied: packaging>=20.0 in /usr/local/lib/python3.11/dist-packages (from optuna) (24.2)\n",
            "Requirement already satisfied: sqlalchemy>=1.4.2 in /usr/local/lib/python3.11/dist-packages (from optuna) (2.0.38)\n",
            "Requirement already satisfied: tqdm in /usr/local/lib/python3.11/dist-packages (from optuna) (4.67.1)\n",
            "Requirement already satisfied: PyYAML in /usr/local/lib/python3.11/dist-packages (from optuna) (6.0.2)\n",
            "Collecting Mako (from alembic>=1.5.0->optuna)\n",
            "  Downloading Mako-1.3.9-py3-none-any.whl.metadata (2.9 kB)\n",
            "Requirement already satisfied: typing-extensions>=4 in /usr/local/lib/python3.11/dist-packages (from alembic>=1.5.0->optuna) (4.12.2)\n",
            "Requirement already satisfied: greenlet!=0.4.17 in /usr/local/lib/python3.11/dist-packages (from sqlalchemy>=1.4.2->optuna) (3.1.1)\n",
            "Requirement already satisfied: MarkupSafe>=0.9.2 in /usr/local/lib/python3.11/dist-packages (from Mako->alembic>=1.5.0->optuna) (3.0.2)\n",
            "Downloading optuna-4.2.1-py3-none-any.whl (383 kB)\n",
            "\u001b[2K   \u001b[90m━━━━━━━━━━━━━━━━━━━━━━━━━━━━━━━━━━━━━━━━\u001b[0m \u001b[32m383.6/383.6 kB\u001b[0m \u001b[31m28.6 MB/s\u001b[0m eta \u001b[36m0:00:00\u001b[0m\n",
            "\u001b[?25hDownloading alembic-1.14.1-py3-none-any.whl (233 kB)\n",
            "\u001b[2K   \u001b[90m━━━━━━━━━━━━━━━━━━━━━━━━━━━━━━━━━━━━━━━━\u001b[0m \u001b[32m233.6/233.6 kB\u001b[0m \u001b[31m20.8 MB/s\u001b[0m eta \u001b[36m0:00:00\u001b[0m\n",
            "\u001b[?25hDownloading colorlog-6.9.0-py3-none-any.whl (11 kB)\n",
            "Downloading Mako-1.3.9-py3-none-any.whl (78 kB)\n",
            "\u001b[2K   \u001b[90m━━━━━━━━━━━━━━━━━━━━━━━━━━━━━━━━━━━━━━━━\u001b[0m \u001b[32m78.5/78.5 kB\u001b[0m \u001b[31m7.9 MB/s\u001b[0m eta \u001b[36m0:00:00\u001b[0m\n",
            "\u001b[?25hInstalling collected packages: Mako, colorlog, alembic, optuna\n",
            "Successfully installed Mako-1.3.9 alembic-1.14.1 colorlog-6.9.0 optuna-4.2.1\n"
          ]
        }
      ]
    },
    {
      "cell_type": "code",
      "source": [
        "!pip install catboost"
      ],
      "metadata": {
        "id": "-O8BtskoMmSj",
        "colab": {
          "base_uri": "https://localhost:8080/"
        },
        "collapsed": true,
        "outputId": "cf8c7797-045d-4c16-8909-869daac35ccb"
      },
      "execution_count": null,
      "outputs": [
        {
          "output_type": "stream",
          "name": "stdout",
          "text": [
            "Collecting catboost\n",
            "  Downloading catboost-1.2.7-cp311-cp311-manylinux2014_x86_64.whl.metadata (1.2 kB)\n",
            "Requirement already satisfied: graphviz in /usr/local/lib/python3.11/dist-packages (from catboost) (0.20.3)\n",
            "Requirement already satisfied: matplotlib in /usr/local/lib/python3.11/dist-packages (from catboost) (3.10.0)\n",
            "Requirement already satisfied: numpy<2.0,>=1.16.0 in /usr/local/lib/python3.11/dist-packages (from catboost) (1.26.4)\n",
            "Requirement already satisfied: pandas>=0.24 in /usr/local/lib/python3.11/dist-packages (from catboost) (2.2.2)\n",
            "Requirement already satisfied: scipy in /usr/local/lib/python3.11/dist-packages (from catboost) (1.13.1)\n",
            "Requirement already satisfied: plotly in /usr/local/lib/python3.11/dist-packages (from catboost) (5.24.1)\n",
            "Requirement already satisfied: six in /usr/local/lib/python3.11/dist-packages (from catboost) (1.17.0)\n",
            "Requirement already satisfied: python-dateutil>=2.8.2 in /usr/local/lib/python3.11/dist-packages (from pandas>=0.24->catboost) (2.8.2)\n",
            "Requirement already satisfied: pytz>=2020.1 in /usr/local/lib/python3.11/dist-packages (from pandas>=0.24->catboost) (2025.1)\n",
            "Requirement already satisfied: tzdata>=2022.7 in /usr/local/lib/python3.11/dist-packages (from pandas>=0.24->catboost) (2025.1)\n",
            "Requirement already satisfied: contourpy>=1.0.1 in /usr/local/lib/python3.11/dist-packages (from matplotlib->catboost) (1.3.1)\n",
            "Requirement already satisfied: cycler>=0.10 in /usr/local/lib/python3.11/dist-packages (from matplotlib->catboost) (0.12.1)\n",
            "Requirement already satisfied: fonttools>=4.22.0 in /usr/local/lib/python3.11/dist-packages (from matplotlib->catboost) (4.56.0)\n",
            "Requirement already satisfied: kiwisolver>=1.3.1 in /usr/local/lib/python3.11/dist-packages (from matplotlib->catboost) (1.4.8)\n",
            "Requirement already satisfied: packaging>=20.0 in /usr/local/lib/python3.11/dist-packages (from matplotlib->catboost) (24.2)\n",
            "Requirement already satisfied: pillow>=8 in /usr/local/lib/python3.11/dist-packages (from matplotlib->catboost) (11.1.0)\n",
            "Requirement already satisfied: pyparsing>=2.3.1 in /usr/local/lib/python3.11/dist-packages (from matplotlib->catboost) (3.2.1)\n",
            "Requirement already satisfied: tenacity>=6.2.0 in /usr/local/lib/python3.11/dist-packages (from plotly->catboost) (9.0.0)\n",
            "Downloading catboost-1.2.7-cp311-cp311-manylinux2014_x86_64.whl (98.7 MB)\n",
            "\u001b[2K   \u001b[90m━━━━━━━━━━━━━━━━━━━━━━━━━━━━━━━━━━━━━━━━\u001b[0m \u001b[32m98.7/98.7 MB\u001b[0m \u001b[31m20.4 MB/s\u001b[0m eta \u001b[36m0:00:00\u001b[0m\n",
            "\u001b[?25hInstalling collected packages: catboost\n",
            "Successfully installed catboost-1.2.7\n"
          ]
        }
      ]
    },
    {
      "cell_type": "code",
      "source": [
        "import pandas as pd\n",
        "import numpy as np\n",
        "import matplotlib.pyplot as plt\n",
        "import seaborn as sns\n",
        "import hashlib\n",
        "from sklearn.feature_selection import VarianceThreshold\n",
        "from sklearn.model_selection import train_test_split\n",
        "from sklearn.metrics import classification_report, roc_auc_score, confusion_matrix\n",
        "from sklearn.metrics import precision_recall_curve, auc, roc_curve\n",
        "from sklearn.preprocessing import TargetEncoder, LabelEncoder\n",
        "from sklearn.linear_model import Lasso\n",
        "from sklearn.preprocessing import StandardScaler\n",
        "from sklearn.cluster import KMeans\n",
        "from sklearn.decomposition import PCA\n",
        "from sklearn.ensemble import IsolationForest\n",
        "from sklearn.model_selection import TimeSeriesSplit\n",
        "import lightgbm as lgb\n",
        "from sklearn.cluster import AgglomerativeClustering\n",
        "from sklearn.metrics import silhouette_score\n",
        "from sklearn.impute import SimpleImputer\n",
        "import optuna\n",
        "from catboost import CatBoostClassifier, Pool"
      ],
      "metadata": {
        "id": "U8nXKE9eDcLf"
      },
      "execution_count": null,
      "outputs": []
    },
    {
      "cell_type": "markdown",
      "source": [
        "## Data Exploration and Preprocessing"
      ],
      "metadata": {
        "id": "YBy_yqdBDQnB"
      }
    },
    {
      "cell_type": "markdown",
      "source": [
        "### Data Loading and Joining"
      ],
      "metadata": {
        "id": "7SceRb4LDXbf"
      }
    },
    {
      "cell_type": "code",
      "source": [
        "# Load traindata\n",
        "data = pd.read_parquet('/content/drive/MyDrive/Colab Notebooks/fraud-detect/data/train_data.parquet', engine = 'pyarrow')\n",
        "data.info()"
      ],
      "metadata": {
        "id": "BYeGq6CxMVOZ",
        "colab": {
          "base_uri": "https://localhost:8080/"
        },
        "outputId": "89708669-6dfc-4e21-9486-cc63f6c3118b"
      },
      "execution_count": null,
      "outputs": [
        {
          "output_type": "stream",
          "name": "stdout",
          "text": [
            "<class 'pandas.core.frame.DataFrame'>\n",
            "RangeIndex: 590540 entries, 0 to 590539\n",
            "Columns: 434 entries, TransactionID to DeviceInfo\n",
            "dtypes: float64(399), int64(4), object(31)\n",
            "memory usage: 1.9+ GB\n"
          ]
        }
      ]
    },
    {
      "cell_type": "code",
      "source": [
        "# Impute missing values\n",
        "numerical_cols = data.select_dtypes(include = ['float64', 'int64']).columns\n",
        "categorical_cols = data.select_dtypes(include = ['object']).columns\n",
        "\n",
        "for col in numerical_cols:\n",
        "    data[col].fillna(data[col].mean(), inplace = True)\n",
        "\n",
        "for col in categorical_cols:\n",
        "    data[col].fillna('Unknown', inplace = True)\n",
        "\n",
        "data.isnull().sum()"
      ],
      "metadata": {
        "colab": {
          "base_uri": "https://localhost:8080/"
        },
        "collapsed": true,
        "id": "vM1vBtFOf9-9",
        "outputId": "479c88f0-f751-416c-baa6-9515b272d7e8"
      },
      "execution_count": null,
      "outputs": [
        {
          "output_type": "stream",
          "name": "stderr",
          "text": [
            "<ipython-input-5-cb5826747c14>:6: FutureWarning: A value is trying to be set on a copy of a DataFrame or Series through chained assignment using an inplace method.\n",
            "The behavior will change in pandas 3.0. This inplace method will never work because the intermediate object on which we are setting values always behaves as a copy.\n",
            "\n",
            "For example, when doing 'df[col].method(value, inplace=True)', try using 'df.method({col: value}, inplace=True)' or df[col] = df[col].method(value) instead, to perform the operation inplace on the original object.\n",
            "\n",
            "\n",
            "  data[col].fillna(data[col].mean(), inplace = True)\n",
            "<ipython-input-5-cb5826747c14>:9: FutureWarning: A value is trying to be set on a copy of a DataFrame or Series through chained assignment using an inplace method.\n",
            "The behavior will change in pandas 3.0. This inplace method will never work because the intermediate object on which we are setting values always behaves as a copy.\n",
            "\n",
            "For example, when doing 'df[col].method(value, inplace=True)', try using 'df.method({col: value}, inplace=True)' or df[col] = df[col].method(value) instead, to perform the operation inplace on the original object.\n",
            "\n",
            "\n",
            "  data[col].fillna('Unknown', inplace = True)\n"
          ]
        },
        {
          "output_type": "execute_result",
          "data": {
            "text/plain": [
              "TransactionID     0\n",
              "isFraud           0\n",
              "TransactionDT     0\n",
              "TransactionAmt    0\n",
              "ProductCD         0\n",
              "                 ..\n",
              "id_36             0\n",
              "id_37             0\n",
              "id_38             0\n",
              "DeviceType        0\n",
              "DeviceInfo        0\n",
              "Length: 434, dtype: int64"
            ],
            "text/html": [
              "<div>\n",
              "<style scoped>\n",
              "    .dataframe tbody tr th:only-of-type {\n",
              "        vertical-align: middle;\n",
              "    }\n",
              "\n",
              "    .dataframe tbody tr th {\n",
              "        vertical-align: top;\n",
              "    }\n",
              "\n",
              "    .dataframe thead th {\n",
              "        text-align: right;\n",
              "    }\n",
              "</style>\n",
              "<table border=\"1\" class=\"dataframe\">\n",
              "  <thead>\n",
              "    <tr style=\"text-align: right;\">\n",
              "      <th></th>\n",
              "      <th>0</th>\n",
              "    </tr>\n",
              "  </thead>\n",
              "  <tbody>\n",
              "    <tr>\n",
              "      <th>TransactionID</th>\n",
              "      <td>0</td>\n",
              "    </tr>\n",
              "    <tr>\n",
              "      <th>isFraud</th>\n",
              "      <td>0</td>\n",
              "    </tr>\n",
              "    <tr>\n",
              "      <th>TransactionDT</th>\n",
              "      <td>0</td>\n",
              "    </tr>\n",
              "    <tr>\n",
              "      <th>TransactionAmt</th>\n",
              "      <td>0</td>\n",
              "    </tr>\n",
              "    <tr>\n",
              "      <th>ProductCD</th>\n",
              "      <td>0</td>\n",
              "    </tr>\n",
              "    <tr>\n",
              "      <th>...</th>\n",
              "      <td>...</td>\n",
              "    </tr>\n",
              "    <tr>\n",
              "      <th>id_36</th>\n",
              "      <td>0</td>\n",
              "    </tr>\n",
              "    <tr>\n",
              "      <th>id_37</th>\n",
              "      <td>0</td>\n",
              "    </tr>\n",
              "    <tr>\n",
              "      <th>id_38</th>\n",
              "      <td>0</td>\n",
              "    </tr>\n",
              "    <tr>\n",
              "      <th>DeviceType</th>\n",
              "      <td>0</td>\n",
              "    </tr>\n",
              "    <tr>\n",
              "      <th>DeviceInfo</th>\n",
              "      <td>0</td>\n",
              "    </tr>\n",
              "  </tbody>\n",
              "</table>\n",
              "<p>434 rows × 1 columns</p>\n",
              "</div><br><label><b>dtype:</b> int64</label>"
            ]
          },
          "metadata": {},
          "execution_count": 5
        }
      ]
    },
    {
      "cell_type": "markdown",
      "source": [
        "## Feature Engineering"
      ],
      "metadata": {
        "id": "lu6q2Kl5EVAq"
      }
    },
    {
      "cell_type": "code",
      "source": [
        "# Time-based features\n",
        "data['DaysFromStart'] = np.floor(data['TransactionDT']/(60*60*24)) - 1\n",
        "data['D1-DaysFromStart'] = data['D1'] - data['DaysFromStart']\n",
        "data.shape"
      ],
      "metadata": {
        "id": "DOstxCPFlRfh",
        "colab": {
          "base_uri": "https://localhost:8080/"
        },
        "outputId": "27b7e120-147b-43c5-878a-e8584a2fe6cc"
      },
      "execution_count": null,
      "outputs": [
        {
          "output_type": "execute_result",
          "data": {
            "text/plain": [
              "(590540, 436)"
            ]
          },
          "metadata": {},
          "execution_count": 6
        }
      ]
    },
    {
      "cell_type": "code",
      "source": [
        "# Time-based features vol.2\n",
        "data['TransactionDT'] = pd.to_datetime(data['TransactionDT'], unit='s')\n",
        "data['Hour'] = data['TransactionDT'].dt.hour\n",
        "data['Day'] = data['TransactionDT'].dt.day\n",
        "data['Month'] = data['TransactionDT'].dt.month\n",
        "data['DayOfWeek'] = data['TransactionDT'].dt.dayofweek\n",
        "data['Days_LastTransaction'] = data.groupby('card3')['TransactionDT'].diff().dt.total_seconds() / 86400  # Days since last transaction\n",
        "data['Days_FirstTransaction'] = (data['TransactionDT'] - data.groupby('card3')['TransactionDT'].transform('min')).dt.total_seconds() / 86400  # Days since first transaction"
      ],
      "metadata": {
        "id": "aPJ_TxKwEW-a"
      },
      "execution_count": null,
      "outputs": []
    },
    {
      "cell_type": "code",
      "source": [
        "# Transaction count by hour\n",
        "data['TransactionCount_Hour'] = data.groupby('Hour')['TransactionID'].transform('count')\n",
        "# Average transaction amount by hour\n",
        "data['AvgTransactionAmt_Hour'] = data.groupby('Hour')['TransactionAmt'].transform('mean')\n",
        "# User's most frequent transaction hour\n",
        "data['UserPeakHour'] = data.groupby('id_01')['Hour'].transform(lambda x: x.mode()[0])\n",
        "# User's most frequent transaction hour\n",
        "data['UserPeakHour'] = data.groupby('card3')['Hour'].transform(lambda x: x.mode()[0])\n",
        "# Deviation from user's typical hour\n",
        "data['HourDeviation'] = abs(data['Hour'] - data['UserPeakHour'])"
      ],
      "metadata": {
        "id": "sFPqd_As_4SE"
      },
      "execution_count": null,
      "outputs": []
    },
    {
      "cell_type": "code",
      "source": [
        "# Aggregated features\n",
        "data['Avg_TransactionAmt'] = data.groupby('card3')['TransactionAmt'].transform('mean')\n",
        "data['TransactionCount'] = data.groupby('card3')['TransactionID'].transform('count')\n",
        "# Transaction amount ratios\n",
        "data['TransactionAmtRatio'] = data.groupby('card3')['TransactionAmt'].transform(lambda x: x / x.mean())\n",
        "data.shape"
      ],
      "metadata": {
        "id": "yGa8SszKEYIj",
        "colab": {
          "base_uri": "https://localhost:8080/"
        },
        "outputId": "25e3e76d-acf9-4218-abb1-fda2d7ed51b7"
      },
      "execution_count": null,
      "outputs": [
        {
          "output_type": "execute_result",
          "data": {
            "text/plain": [
              "(590540, 449)"
            ]
          },
          "metadata": {},
          "execution_count": 9
        }
      ]
    },
    {
      "cell_type": "code",
      "source": [
        "# Aggregated features vol.2\n",
        "data['Avg_TransactionAmt2'] = data.groupby('id_01')['TransactionAmt'].transform('mean')\n",
        "data['TransactionCount2'] = data.groupby('id_01')['TransactionID'].transform('count')\n",
        "# Transaction amount ratios\n",
        "data['TransactionAmtRatio2'] = data.groupby('id_01')['TransactionAmt'].transform(lambda x: x / x.mean())\n",
        "data.shape"
      ],
      "metadata": {
        "colab": {
          "base_uri": "https://localhost:8080/"
        },
        "id": "snrLMVcH60xv",
        "outputId": "4972e446-28ce-4ef3-e945-5451d825b92c"
      },
      "execution_count": null,
      "outputs": [
        {
          "output_type": "execute_result",
          "data": {
            "text/plain": [
              "(590540, 452)"
            ]
          },
          "metadata": {},
          "execution_count": 10
        }
      ]
    },
    {
      "cell_type": "code",
      "source": [
        "# Interaction features\n",
        "data['DeviceType'] = data['DeviceInfo'].str.extract(r'(Mobile|Desktop)')\n",
        "data['IsFreeEmail'] = data['P_emaildomain'].apply(lambda x: 1 if x in ['gmail.com', 'yahoo.com', 'hotmail.com'] else 0)\n",
        "data['Card_Mail_Inter'] = data['card1'].astype(str) + \"_\" + data['card3'].astype(str) + \"_\" + data['P_emaildomain'].astype(str)\n",
        "data['Email_Inter'] = data['R_emaildomain'].astype(str) + \"_\" + data['DeviceType'].astype(str) + \"_\"  + data['P_emaildomain'].astype(str) + \"_\" + data['IsFreeEmail'].astype(str)\n",
        "data['Card_Addr'] = data['card3'].astype(str) + \"_\" + data['id_09'].astype(str) + \"_\" + data['addr1'].astype(str) + \"_\" + data['addr2'].astype(str)\n",
        "data.shape"
      ],
      "metadata": {
        "id": "OUDz0D5dEYFr",
        "colab": {
          "base_uri": "https://localhost:8080/"
        },
        "outputId": "7ed1079d-26d9-4769-af28-27e2045ccdc2"
      },
      "execution_count": null,
      "outputs": [
        {
          "output_type": "execute_result",
          "data": {
            "text/plain": [
              "(590540, 456)"
            ]
          },
          "metadata": {},
          "execution_count": 11
        }
      ]
    },
    {
      "cell_type": "code",
      "source": [
        "# Domain-specific features\n",
        "data['Email_Free2'] = data['IsFreeEmail'].astype(str) + \"_\" + data['card3'].astype(str) + data['DeviceType'].astype(str) + \"_\" + data['addr1'].astype(str) + \"_\" + data['D1-DaysFromStart'].astype(str)\n",
        "# Extract device type from 'DeviceInfo' (assuming it contains device information)\n",
        "data['Avg_TransactionAmt_Addr_Inter'] = data['Avg_TransactionAmt'].astype(str) + \"_\" + data['D1-DaysFromStart'].astype(str) + \"_\" +  data['addr2'].astype(str) + \"_\" + data['Email_Inter'].astype(str)\n",
        "data.shape"
      ],
      "metadata": {
        "colab": {
          "base_uri": "https://localhost:8080/"
        },
        "id": "I8WXmpu25VQE",
        "outputId": "928e3561-32a7-4a4a-8be0-bce5d6b1b2bf"
      },
      "execution_count": null,
      "outputs": [
        {
          "output_type": "execute_result",
          "data": {
            "text/plain": [
              "(590540, 458)"
            ]
          },
          "metadata": {},
          "execution_count": 12
        }
      ]
    },
    {
      "cell_type": "code",
      "source": [
        "# Aggregations grouped by M4\n",
        "data['M4_TransactionAmt_Mean'] = data.groupby('M4')['TransactionAmt'].transform('mean')\n",
        "data['M4_TransactionCount'] = data.groupby('M4')['TransactionID'].transform('count')\n",
        "\n",
        "# Interaction features with M4\n",
        "data['M4_Inter'] = data['M4'].astype(str) + \"_\" + data['Avg_TransactionAmt_Addr_Inter'].astype(str)\n",
        "data['M4_Email_Inter'] = data['M4'].astype(str) + \"_\" + data['Email_Free2'].astype(str)"
      ],
      "metadata": {
        "id": "9efL7pG2ybB9"
      },
      "execution_count": null,
      "outputs": []
    },
    {
      "cell_type": "code",
      "source": [
        "# Aggregations grouped by id_09\n",
        "for col in ['C1', 'C2', 'C3', 'C4', 'C5', 'C6', 'C7', 'C8', 'C9', 'C10', 'C11', 'C12', 'C13', 'C14']:\n",
        "    data[f'id_01_{col}_Mean'] = data.groupby('id_01')[col].transform('mean')\n",
        "    data[f'id_02_{col}_Mean'] = data.groupby('id_02')[col].transform('mean')\n",
        "    data[f'id_02_{col}_Mean'] = data.groupby('id_03')[col].transform('mean')\n",
        "    data[f'id_09_{col}_Mean'] = data.groupby('id_09')[col].transform('mean')"
      ],
      "metadata": {
        "id": "U9FXAZx4U07K"
      },
      "execution_count": null,
      "outputs": []
    },
    {
      "cell_type": "code",
      "source": [
        "# Aggregations grouped by card3\n",
        "for col in ['C1', 'C2', 'C3', 'C4', 'C5', 'C6', 'C7', 'C8', 'C9', 'C10', 'C11', 'C12', 'C13', 'C14']:\n",
        "    data[f'card1_{col}_Mean'] = data.groupby('card1')[col].transform('mean')\n",
        "    data[f'card3_{col}_Mean'] = data.groupby('card3')[col].transform('mean')"
      ],
      "metadata": {
        "id": "my1f15KXyRhW",
        "colab": {
          "base_uri": "https://localhost:8080/"
        },
        "outputId": "7e86ab10-d849-4859-cf27-5a217576a511"
      },
      "execution_count": null,
      "outputs": [
        {
          "output_type": "stream",
          "name": "stderr",
          "text": [
            "<ipython-input-15-abc49270efa7>:4: PerformanceWarning: DataFrame is highly fragmented.  This is usually the result of calling `frame.insert` many times, which has poor performance.  Consider joining all columns at once using pd.concat(axis=1) instead. To get a de-fragmented frame, use `newframe = frame.copy()`\n",
            "  data[f'card3_{col}_Mean'] = data.groupby('card3')[col].transform('mean')\n",
            "<ipython-input-15-abc49270efa7>:3: PerformanceWarning: DataFrame is highly fragmented.  This is usually the result of calling `frame.insert` many times, which has poor performance.  Consider joining all columns at once using pd.concat(axis=1) instead. To get a de-fragmented frame, use `newframe = frame.copy()`\n",
            "  data[f'card1_{col}_Mean'] = data.groupby('card1')[col].transform('mean')\n",
            "<ipython-input-15-abc49270efa7>:4: PerformanceWarning: DataFrame is highly fragmented.  This is usually the result of calling `frame.insert` many times, which has poor performance.  Consider joining all columns at once using pd.concat(axis=1) instead. To get a de-fragmented frame, use `newframe = frame.copy()`\n",
            "  data[f'card3_{col}_Mean'] = data.groupby('card3')[col].transform('mean')\n",
            "<ipython-input-15-abc49270efa7>:3: PerformanceWarning: DataFrame is highly fragmented.  This is usually the result of calling `frame.insert` many times, which has poor performance.  Consider joining all columns at once using pd.concat(axis=1) instead. To get a de-fragmented frame, use `newframe = frame.copy()`\n",
            "  data[f'card1_{col}_Mean'] = data.groupby('card1')[col].transform('mean')\n",
            "<ipython-input-15-abc49270efa7>:4: PerformanceWarning: DataFrame is highly fragmented.  This is usually the result of calling `frame.insert` many times, which has poor performance.  Consider joining all columns at once using pd.concat(axis=1) instead. To get a de-fragmented frame, use `newframe = frame.copy()`\n",
            "  data[f'card3_{col}_Mean'] = data.groupby('card3')[col].transform('mean')\n"
          ]
        }
      ]
    },
    {
      "cell_type": "markdown",
      "source": [
        "### User_id fingerprints"
      ],
      "metadata": {
        "id": "eMxO4n_GlpK9"
      }
    },
    {
      "cell_type": "code",
      "source": [
        "# Create uuid fingerprint\n",
        "# Convert TransactionDT to Unix timestamp (numeric type)\n",
        "data['TransactionDT'] = pd.to_datetime(data['TransactionDT'], unit='s').astype('int64') // 10**9\n",
        "\n",
        "# Combine columns into a single string column\n",
        "data['Combined'] = (\n",
        "    data['id_09'].astype(str) + \"_\" +\n",
        "    data['C12'].astype(str) + \"_\" +\n",
        "    data['R_emaildomain'].astype(str) + \"_\" +\n",
        "    data['D1-DaysFromStart'].astype(str))\n",
        "\n",
        "# Vectorized MD5 hash function\n",
        "def vectorized_md5_hash(col):\n",
        "    return np.array([hashlib.md5(val.encode()).hexdigest() for val in col])\n",
        "\n",
        "# Compute UUID fingerprints\n",
        "data['uuid'] = vectorized_md5_hash(data['Combined'])\n",
        "\n",
        "# Drop the temporary columns\n",
        "data.drop(columns=['Combined'], inplace=True)\n",
        "\n",
        "# Check the result\n",
        "print(data[['uuid']].head())\n",
        "print(data.shape)"
      ],
      "metadata": {
        "id": "jQFZ5jvoEYB4",
        "colab": {
          "base_uri": "https://localhost:8080/"
        },
        "outputId": "43171c67-db09-4092-bd74-826ed8dfa7aa"
      },
      "execution_count": null,
      "outputs": [
        {
          "output_type": "stream",
          "name": "stderr",
          "text": [
            "<ipython-input-16-b67d91c5267e>:6: PerformanceWarning: DataFrame is highly fragmented.  This is usually the result of calling `frame.insert` many times, which has poor performance.  Consider joining all columns at once using pd.concat(axis=1) instead. To get a de-fragmented frame, use `newframe = frame.copy()`\n",
            "  data['Combined'] = (\n",
            "<ipython-input-16-b67d91c5267e>:17: PerformanceWarning: DataFrame is highly fragmented.  This is usually the result of calling `frame.insert` many times, which has poor performance.  Consider joining all columns at once using pd.concat(axis=1) instead. To get a de-fragmented frame, use `newframe = frame.copy()`\n",
            "  data['uuid'] = vectorized_md5_hash(data['Combined'])\n"
          ]
        },
        {
          "output_type": "stream",
          "name": "stdout",
          "text": [
            "                               uuid\n",
            "0  755b93fd3a82647daceb87fafe30e28d\n",
            "1  6bfad302c454738fdab0fc889ea42d63\n",
            "2  6bfad302c454738fdab0fc889ea42d63\n",
            "3  8e991267e4e46dee25ae3d69993ef2a5\n",
            "4  6bfad302c454738fdab0fc889ea42d63\n",
            "(590540, 533)\n"
          ]
        }
      ]
    },
    {
      "cell_type": "code",
      "source": [
        "data['U_id'] = data['C12'].astype(str) + '_' + data['Email_Inter'].astype(str)\n",
        "data['U_id2'] = data['Email_Inter'].astype(str) + '_' + data['V123'].astype(str) + '_' + data['V258'].astype(str)\n",
        "data['U_id3'] = data['P_emaildomain'].astype(str) + '_' + data['addr1'].astype(str) + '_' + data['addr2'].astype(str) + '_' + data['DeviceType'].astype(str)\n",
        "data.shape"
      ],
      "metadata": {
        "colab": {
          "base_uri": "https://localhost:8080/"
        },
        "id": "4BiJzvrGkcFG",
        "outputId": "07a8f8bf-6f01-4d37-f260-bab77b633211",
        "collapsed": true
      },
      "execution_count": null,
      "outputs": [
        {
          "output_type": "stream",
          "name": "stderr",
          "text": [
            "<ipython-input-17-418ee7e04822>:1: PerformanceWarning: DataFrame is highly fragmented.  This is usually the result of calling `frame.insert` many times, which has poor performance.  Consider joining all columns at once using pd.concat(axis=1) instead. To get a de-fragmented frame, use `newframe = frame.copy()`\n",
            "  data['U_id'] = data['C12'].astype(str) + '_' + data['Email_Inter'].astype(str)\n",
            "<ipython-input-17-418ee7e04822>:2: PerformanceWarning: DataFrame is highly fragmented.  This is usually the result of calling `frame.insert` many times, which has poor performance.  Consider joining all columns at once using pd.concat(axis=1) instead. To get a de-fragmented frame, use `newframe = frame.copy()`\n",
            "  data['U_id2'] = data['Email_Inter'].astype(str) + '_' + data['V123'].astype(str) + '_' + data['V258'].astype(str)\n",
            "<ipython-input-17-418ee7e04822>:3: PerformanceWarning: DataFrame is highly fragmented.  This is usually the result of calling `frame.insert` many times, which has poor performance.  Consider joining all columns at once using pd.concat(axis=1) instead. To get a de-fragmented frame, use `newframe = frame.copy()`\n",
            "  data['U_id3'] = data['P_emaildomain'].astype(str) + '_' + data['addr1'].astype(str) + '_' + data['addr2'].astype(str) + '_' + data['DeviceType'].astype(str)\n"
          ]
        },
        {
          "output_type": "execute_result",
          "data": {
            "text/plain": [
              "(590540, 536)"
            ]
          },
          "metadata": {},
          "execution_count": 17
        }
      ]
    },
    {
      "cell_type": "markdown",
      "source": [
        "## Dimension Reduction"
      ],
      "metadata": {
        "id": "C5ztctPNRGhQ"
      }
    },
    {
      "cell_type": "code",
      "source": [
        "# Select features\n",
        "data_subset = data.loc[:, 'V1':'V339']\n",
        "feature_columns = [col for col in data_subset.columns]\n",
        "\n",
        "# Standardize Features\n",
        "scaler = StandardScaler()\n",
        "data_scaled = scaler.fit_transform(data[feature_columns])\n",
        "\n",
        "# Transpose Data: Clustering features\n",
        "feature_matrix = data_scaled.T\n",
        "\n",
        "# Apply PCA Before Clustering\n",
        "pca = PCA(n_components = 0.95)  # Retain 95% of variance\n",
        "feature_matrix_pca = pca.fit_transform(feature_matrix)\n",
        "\n",
        "# Apply Hierarchical Clustering to Group Similar Features\n",
        "n_clusters = 100\n",
        "agg_clustering = AgglomerativeClustering(n_clusters = n_clusters, linkage = 'ward')\n",
        "feature_clusters = agg_clustering.fit_predict(feature_matrix_pca)\n",
        "\n",
        "# Create Mapping of Features to Clusters\n",
        "feature_cluster_map = {feature: cluster for feature,\n",
        "                       cluster in zip(feature_columns, feature_clusters)}\n",
        "\n",
        "# Aggregate Features Within Each Cluster (Mean or Median)\n",
        "for cluster in set(feature_clusters):\n",
        "    cluster_features = [f for f in feature_cluster_map\n",
        "                        if feature_cluster_map[f] == cluster]\n",
        "    data[f'Cluster_{cluster}'] = data[cluster_features].mean(axis = 1)\n",
        "\n",
        "data.shape"
      ],
      "metadata": {
        "colab": {
          "base_uri": "https://localhost:8080/"
        },
        "collapsed": true,
        "id": "3QqLQY3KRXc_",
        "outputId": "2ec56499-5c75-4219-e2bc-de783ab1c28d"
      },
      "execution_count": null,
      "outputs": [
        {
          "output_type": "stream",
          "name": "stderr",
          "text": [
            "<ipython-input-17-74304a270837>:26: PerformanceWarning: DataFrame is highly fragmented.  This is usually the result of calling `frame.insert` many times, which has poor performance.  Consider joining all columns at once using pd.concat(axis=1) instead. To get a de-fragmented frame, use `newframe = frame.copy()`\n",
            "  data[f'Cluster_{cluster}'] = data[cluster_features].mean(axis=1)  # Use .median(axis=1) if needed\n",
            "<ipython-input-17-74304a270837>:26: PerformanceWarning: DataFrame is highly fragmented.  This is usually the result of calling `frame.insert` many times, which has poor performance.  Consider joining all columns at once using pd.concat(axis=1) instead. To get a de-fragmented frame, use `newframe = frame.copy()`\n",
            "  data[f'Cluster_{cluster}'] = data[cluster_features].mean(axis=1)  # Use .median(axis=1) if needed\n",
            "<ipython-input-17-74304a270837>:26: PerformanceWarning: DataFrame is highly fragmented.  This is usually the result of calling `frame.insert` many times, which has poor performance.  Consider joining all columns at once using pd.concat(axis=1) instead. To get a de-fragmented frame, use `newframe = frame.copy()`\n",
            "  data[f'Cluster_{cluster}'] = data[cluster_features].mean(axis=1)  # Use .median(axis=1) if needed\n",
            "<ipython-input-17-74304a270837>:26: PerformanceWarning: DataFrame is highly fragmented.  This is usually the result of calling `frame.insert` many times, which has poor performance.  Consider joining all columns at once using pd.concat(axis=1) instead. To get a de-fragmented frame, use `newframe = frame.copy()`\n",
            "  data[f'Cluster_{cluster}'] = data[cluster_features].mean(axis=1)  # Use .median(axis=1) if needed\n",
            "<ipython-input-17-74304a270837>:26: PerformanceWarning: DataFrame is highly fragmented.  This is usually the result of calling `frame.insert` many times, which has poor performance.  Consider joining all columns at once using pd.concat(axis=1) instead. To get a de-fragmented frame, use `newframe = frame.copy()`\n",
            "  data[f'Cluster_{cluster}'] = data[cluster_features].mean(axis=1)  # Use .median(axis=1) if needed\n",
            "<ipython-input-17-74304a270837>:26: PerformanceWarning: DataFrame is highly fragmented.  This is usually the result of calling `frame.insert` many times, which has poor performance.  Consider joining all columns at once using pd.concat(axis=1) instead. To get a de-fragmented frame, use `newframe = frame.copy()`\n",
            "  data[f'Cluster_{cluster}'] = data[cluster_features].mean(axis=1)  # Use .median(axis=1) if needed\n",
            "<ipython-input-17-74304a270837>:26: PerformanceWarning: DataFrame is highly fragmented.  This is usually the result of calling `frame.insert` many times, which has poor performance.  Consider joining all columns at once using pd.concat(axis=1) instead. To get a de-fragmented frame, use `newframe = frame.copy()`\n",
            "  data[f'Cluster_{cluster}'] = data[cluster_features].mean(axis=1)  # Use .median(axis=1) if needed\n",
            "<ipython-input-17-74304a270837>:26: PerformanceWarning: DataFrame is highly fragmented.  This is usually the result of calling `frame.insert` many times, which has poor performance.  Consider joining all columns at once using pd.concat(axis=1) instead. To get a de-fragmented frame, use `newframe = frame.copy()`\n",
            "  data[f'Cluster_{cluster}'] = data[cluster_features].mean(axis=1)  # Use .median(axis=1) if needed\n",
            "<ipython-input-17-74304a270837>:26: PerformanceWarning: DataFrame is highly fragmented.  This is usually the result of calling `frame.insert` many times, which has poor performance.  Consider joining all columns at once using pd.concat(axis=1) instead. To get a de-fragmented frame, use `newframe = frame.copy()`\n",
            "  data[f'Cluster_{cluster}'] = data[cluster_features].mean(axis=1)  # Use .median(axis=1) if needed\n",
            "<ipython-input-17-74304a270837>:26: PerformanceWarning: DataFrame is highly fragmented.  This is usually the result of calling `frame.insert` many times, which has poor performance.  Consider joining all columns at once using pd.concat(axis=1) instead. To get a de-fragmented frame, use `newframe = frame.copy()`\n",
            "  data[f'Cluster_{cluster}'] = data[cluster_features].mean(axis=1)  # Use .median(axis=1) if needed\n",
            "<ipython-input-17-74304a270837>:26: PerformanceWarning: DataFrame is highly fragmented.  This is usually the result of calling `frame.insert` many times, which has poor performance.  Consider joining all columns at once using pd.concat(axis=1) instead. To get a de-fragmented frame, use `newframe = frame.copy()`\n",
            "  data[f'Cluster_{cluster}'] = data[cluster_features].mean(axis=1)  # Use .median(axis=1) if needed\n",
            "<ipython-input-17-74304a270837>:26: PerformanceWarning: DataFrame is highly fragmented.  This is usually the result of calling `frame.insert` many times, which has poor performance.  Consider joining all columns at once using pd.concat(axis=1) instead. To get a de-fragmented frame, use `newframe = frame.copy()`\n",
            "  data[f'Cluster_{cluster}'] = data[cluster_features].mean(axis=1)  # Use .median(axis=1) if needed\n",
            "<ipython-input-17-74304a270837>:26: PerformanceWarning: DataFrame is highly fragmented.  This is usually the result of calling `frame.insert` many times, which has poor performance.  Consider joining all columns at once using pd.concat(axis=1) instead. To get a de-fragmented frame, use `newframe = frame.copy()`\n",
            "  data[f'Cluster_{cluster}'] = data[cluster_features].mean(axis=1)  # Use .median(axis=1) if needed\n",
            "<ipython-input-17-74304a270837>:26: PerformanceWarning: DataFrame is highly fragmented.  This is usually the result of calling `frame.insert` many times, which has poor performance.  Consider joining all columns at once using pd.concat(axis=1) instead. To get a de-fragmented frame, use `newframe = frame.copy()`\n",
            "  data[f'Cluster_{cluster}'] = data[cluster_features].mean(axis=1)  # Use .median(axis=1) if needed\n",
            "<ipython-input-17-74304a270837>:26: PerformanceWarning: DataFrame is highly fragmented.  This is usually the result of calling `frame.insert` many times, which has poor performance.  Consider joining all columns at once using pd.concat(axis=1) instead. To get a de-fragmented frame, use `newframe = frame.copy()`\n",
            "  data[f'Cluster_{cluster}'] = data[cluster_features].mean(axis=1)  # Use .median(axis=1) if needed\n",
            "<ipython-input-17-74304a270837>:26: PerformanceWarning: DataFrame is highly fragmented.  This is usually the result of calling `frame.insert` many times, which has poor performance.  Consider joining all columns at once using pd.concat(axis=1) instead. To get a de-fragmented frame, use `newframe = frame.copy()`\n",
            "  data[f'Cluster_{cluster}'] = data[cluster_features].mean(axis=1)  # Use .median(axis=1) if needed\n",
            "<ipython-input-17-74304a270837>:26: PerformanceWarning: DataFrame is highly fragmented.  This is usually the result of calling `frame.insert` many times, which has poor performance.  Consider joining all columns at once using pd.concat(axis=1) instead. To get a de-fragmented frame, use `newframe = frame.copy()`\n",
            "  data[f'Cluster_{cluster}'] = data[cluster_features].mean(axis=1)  # Use .median(axis=1) if needed\n",
            "<ipython-input-17-74304a270837>:26: PerformanceWarning: DataFrame is highly fragmented.  This is usually the result of calling `frame.insert` many times, which has poor performance.  Consider joining all columns at once using pd.concat(axis=1) instead. To get a de-fragmented frame, use `newframe = frame.copy()`\n",
            "  data[f'Cluster_{cluster}'] = data[cluster_features].mean(axis=1)  # Use .median(axis=1) if needed\n",
            "<ipython-input-17-74304a270837>:26: PerformanceWarning: DataFrame is highly fragmented.  This is usually the result of calling `frame.insert` many times, which has poor performance.  Consider joining all columns at once using pd.concat(axis=1) instead. To get a de-fragmented frame, use `newframe = frame.copy()`\n",
            "  data[f'Cluster_{cluster}'] = data[cluster_features].mean(axis=1)  # Use .median(axis=1) if needed\n",
            "<ipython-input-17-74304a270837>:26: PerformanceWarning: DataFrame is highly fragmented.  This is usually the result of calling `frame.insert` many times, which has poor performance.  Consider joining all columns at once using pd.concat(axis=1) instead. To get a de-fragmented frame, use `newframe = frame.copy()`\n",
            "  data[f'Cluster_{cluster}'] = data[cluster_features].mean(axis=1)  # Use .median(axis=1) if needed\n",
            "<ipython-input-17-74304a270837>:26: PerformanceWarning: DataFrame is highly fragmented.  This is usually the result of calling `frame.insert` many times, which has poor performance.  Consider joining all columns at once using pd.concat(axis=1) instead. To get a de-fragmented frame, use `newframe = frame.copy()`\n",
            "  data[f'Cluster_{cluster}'] = data[cluster_features].mean(axis=1)  # Use .median(axis=1) if needed\n",
            "<ipython-input-17-74304a270837>:26: PerformanceWarning: DataFrame is highly fragmented.  This is usually the result of calling `frame.insert` many times, which has poor performance.  Consider joining all columns at once using pd.concat(axis=1) instead. To get a de-fragmented frame, use `newframe = frame.copy()`\n",
            "  data[f'Cluster_{cluster}'] = data[cluster_features].mean(axis=1)  # Use .median(axis=1) if needed\n",
            "<ipython-input-17-74304a270837>:26: PerformanceWarning: DataFrame is highly fragmented.  This is usually the result of calling `frame.insert` many times, which has poor performance.  Consider joining all columns at once using pd.concat(axis=1) instead. To get a de-fragmented frame, use `newframe = frame.copy()`\n",
            "  data[f'Cluster_{cluster}'] = data[cluster_features].mean(axis=1)  # Use .median(axis=1) if needed\n",
            "<ipython-input-17-74304a270837>:26: PerformanceWarning: DataFrame is highly fragmented.  This is usually the result of calling `frame.insert` many times, which has poor performance.  Consider joining all columns at once using pd.concat(axis=1) instead. To get a de-fragmented frame, use `newframe = frame.copy()`\n",
            "  data[f'Cluster_{cluster}'] = data[cluster_features].mean(axis=1)  # Use .median(axis=1) if needed\n",
            "<ipython-input-17-74304a270837>:26: PerformanceWarning: DataFrame is highly fragmented.  This is usually the result of calling `frame.insert` many times, which has poor performance.  Consider joining all columns at once using pd.concat(axis=1) instead. To get a de-fragmented frame, use `newframe = frame.copy()`\n",
            "  data[f'Cluster_{cluster}'] = data[cluster_features].mean(axis=1)  # Use .median(axis=1) if needed\n",
            "<ipython-input-17-74304a270837>:26: PerformanceWarning: DataFrame is highly fragmented.  This is usually the result of calling `frame.insert` many times, which has poor performance.  Consider joining all columns at once using pd.concat(axis=1) instead. To get a de-fragmented frame, use `newframe = frame.copy()`\n",
            "  data[f'Cluster_{cluster}'] = data[cluster_features].mean(axis=1)  # Use .median(axis=1) if needed\n",
            "<ipython-input-17-74304a270837>:26: PerformanceWarning: DataFrame is highly fragmented.  This is usually the result of calling `frame.insert` many times, which has poor performance.  Consider joining all columns at once using pd.concat(axis=1) instead. To get a de-fragmented frame, use `newframe = frame.copy()`\n",
            "  data[f'Cluster_{cluster}'] = data[cluster_features].mean(axis=1)  # Use .median(axis=1) if needed\n",
            "<ipython-input-17-74304a270837>:26: PerformanceWarning: DataFrame is highly fragmented.  This is usually the result of calling `frame.insert` many times, which has poor performance.  Consider joining all columns at once using pd.concat(axis=1) instead. To get a de-fragmented frame, use `newframe = frame.copy()`\n",
            "  data[f'Cluster_{cluster}'] = data[cluster_features].mean(axis=1)  # Use .median(axis=1) if needed\n",
            "<ipython-input-17-74304a270837>:26: PerformanceWarning: DataFrame is highly fragmented.  This is usually the result of calling `frame.insert` many times, which has poor performance.  Consider joining all columns at once using pd.concat(axis=1) instead. To get a de-fragmented frame, use `newframe = frame.copy()`\n",
            "  data[f'Cluster_{cluster}'] = data[cluster_features].mean(axis=1)  # Use .median(axis=1) if needed\n",
            "<ipython-input-17-74304a270837>:26: PerformanceWarning: DataFrame is highly fragmented.  This is usually the result of calling `frame.insert` many times, which has poor performance.  Consider joining all columns at once using pd.concat(axis=1) instead. To get a de-fragmented frame, use `newframe = frame.copy()`\n",
            "  data[f'Cluster_{cluster}'] = data[cluster_features].mean(axis=1)  # Use .median(axis=1) if needed\n",
            "<ipython-input-17-74304a270837>:26: PerformanceWarning: DataFrame is highly fragmented.  This is usually the result of calling `frame.insert` many times, which has poor performance.  Consider joining all columns at once using pd.concat(axis=1) instead. To get a de-fragmented frame, use `newframe = frame.copy()`\n",
            "  data[f'Cluster_{cluster}'] = data[cluster_features].mean(axis=1)  # Use .median(axis=1) if needed\n",
            "<ipython-input-17-74304a270837>:26: PerformanceWarning: DataFrame is highly fragmented.  This is usually the result of calling `frame.insert` many times, which has poor performance.  Consider joining all columns at once using pd.concat(axis=1) instead. To get a de-fragmented frame, use `newframe = frame.copy()`\n",
            "  data[f'Cluster_{cluster}'] = data[cluster_features].mean(axis=1)  # Use .median(axis=1) if needed\n",
            "<ipython-input-17-74304a270837>:26: PerformanceWarning: DataFrame is highly fragmented.  This is usually the result of calling `frame.insert` many times, which has poor performance.  Consider joining all columns at once using pd.concat(axis=1) instead. To get a de-fragmented frame, use `newframe = frame.copy()`\n",
            "  data[f'Cluster_{cluster}'] = data[cluster_features].mean(axis=1)  # Use .median(axis=1) if needed\n",
            "<ipython-input-17-74304a270837>:26: PerformanceWarning: DataFrame is highly fragmented.  This is usually the result of calling `frame.insert` many times, which has poor performance.  Consider joining all columns at once using pd.concat(axis=1) instead. To get a de-fragmented frame, use `newframe = frame.copy()`\n",
            "  data[f'Cluster_{cluster}'] = data[cluster_features].mean(axis=1)  # Use .median(axis=1) if needed\n",
            "<ipython-input-17-74304a270837>:26: PerformanceWarning: DataFrame is highly fragmented.  This is usually the result of calling `frame.insert` many times, which has poor performance.  Consider joining all columns at once using pd.concat(axis=1) instead. To get a de-fragmented frame, use `newframe = frame.copy()`\n",
            "  data[f'Cluster_{cluster}'] = data[cluster_features].mean(axis=1)  # Use .median(axis=1) if needed\n",
            "<ipython-input-17-74304a270837>:26: PerformanceWarning: DataFrame is highly fragmented.  This is usually the result of calling `frame.insert` many times, which has poor performance.  Consider joining all columns at once using pd.concat(axis=1) instead. To get a de-fragmented frame, use `newframe = frame.copy()`\n",
            "  data[f'Cluster_{cluster}'] = data[cluster_features].mean(axis=1)  # Use .median(axis=1) if needed\n",
            "<ipython-input-17-74304a270837>:26: PerformanceWarning: DataFrame is highly fragmented.  This is usually the result of calling `frame.insert` many times, which has poor performance.  Consider joining all columns at once using pd.concat(axis=1) instead. To get a de-fragmented frame, use `newframe = frame.copy()`\n",
            "  data[f'Cluster_{cluster}'] = data[cluster_features].mean(axis=1)  # Use .median(axis=1) if needed\n",
            "<ipython-input-17-74304a270837>:26: PerformanceWarning: DataFrame is highly fragmented.  This is usually the result of calling `frame.insert` many times, which has poor performance.  Consider joining all columns at once using pd.concat(axis=1) instead. To get a de-fragmented frame, use `newframe = frame.copy()`\n",
            "  data[f'Cluster_{cluster}'] = data[cluster_features].mean(axis=1)  # Use .median(axis=1) if needed\n",
            "<ipython-input-17-74304a270837>:26: PerformanceWarning: DataFrame is highly fragmented.  This is usually the result of calling `frame.insert` many times, which has poor performance.  Consider joining all columns at once using pd.concat(axis=1) instead. To get a de-fragmented frame, use `newframe = frame.copy()`\n",
            "  data[f'Cluster_{cluster}'] = data[cluster_features].mean(axis=1)  # Use .median(axis=1) if needed\n",
            "<ipython-input-17-74304a270837>:26: PerformanceWarning: DataFrame is highly fragmented.  This is usually the result of calling `frame.insert` many times, which has poor performance.  Consider joining all columns at once using pd.concat(axis=1) instead. To get a de-fragmented frame, use `newframe = frame.copy()`\n",
            "  data[f'Cluster_{cluster}'] = data[cluster_features].mean(axis=1)  # Use .median(axis=1) if needed\n",
            "<ipython-input-17-74304a270837>:26: PerformanceWarning: DataFrame is highly fragmented.  This is usually the result of calling `frame.insert` many times, which has poor performance.  Consider joining all columns at once using pd.concat(axis=1) instead. To get a de-fragmented frame, use `newframe = frame.copy()`\n",
            "  data[f'Cluster_{cluster}'] = data[cluster_features].mean(axis=1)  # Use .median(axis=1) if needed\n",
            "<ipython-input-17-74304a270837>:26: PerformanceWarning: DataFrame is highly fragmented.  This is usually the result of calling `frame.insert` many times, which has poor performance.  Consider joining all columns at once using pd.concat(axis=1) instead. To get a de-fragmented frame, use `newframe = frame.copy()`\n",
            "  data[f'Cluster_{cluster}'] = data[cluster_features].mean(axis=1)  # Use .median(axis=1) if needed\n",
            "<ipython-input-17-74304a270837>:26: PerformanceWarning: DataFrame is highly fragmented.  This is usually the result of calling `frame.insert` many times, which has poor performance.  Consider joining all columns at once using pd.concat(axis=1) instead. To get a de-fragmented frame, use `newframe = frame.copy()`\n",
            "  data[f'Cluster_{cluster}'] = data[cluster_features].mean(axis=1)  # Use .median(axis=1) if needed\n",
            "<ipython-input-17-74304a270837>:26: PerformanceWarning: DataFrame is highly fragmented.  This is usually the result of calling `frame.insert` many times, which has poor performance.  Consider joining all columns at once using pd.concat(axis=1) instead. To get a de-fragmented frame, use `newframe = frame.copy()`\n",
            "  data[f'Cluster_{cluster}'] = data[cluster_features].mean(axis=1)  # Use .median(axis=1) if needed\n",
            "<ipython-input-17-74304a270837>:26: PerformanceWarning: DataFrame is highly fragmented.  This is usually the result of calling `frame.insert` many times, which has poor performance.  Consider joining all columns at once using pd.concat(axis=1) instead. To get a de-fragmented frame, use `newframe = frame.copy()`\n",
            "  data[f'Cluster_{cluster}'] = data[cluster_features].mean(axis=1)  # Use .median(axis=1) if needed\n",
            "<ipython-input-17-74304a270837>:26: PerformanceWarning: DataFrame is highly fragmented.  This is usually the result of calling `frame.insert` many times, which has poor performance.  Consider joining all columns at once using pd.concat(axis=1) instead. To get a de-fragmented frame, use `newframe = frame.copy()`\n",
            "  data[f'Cluster_{cluster}'] = data[cluster_features].mean(axis=1)  # Use .median(axis=1) if needed\n",
            "<ipython-input-17-74304a270837>:26: PerformanceWarning: DataFrame is highly fragmented.  This is usually the result of calling `frame.insert` many times, which has poor performance.  Consider joining all columns at once using pd.concat(axis=1) instead. To get a de-fragmented frame, use `newframe = frame.copy()`\n",
            "  data[f'Cluster_{cluster}'] = data[cluster_features].mean(axis=1)  # Use .median(axis=1) if needed\n",
            "<ipython-input-17-74304a270837>:26: PerformanceWarning: DataFrame is highly fragmented.  This is usually the result of calling `frame.insert` many times, which has poor performance.  Consider joining all columns at once using pd.concat(axis=1) instead. To get a de-fragmented frame, use `newframe = frame.copy()`\n",
            "  data[f'Cluster_{cluster}'] = data[cluster_features].mean(axis=1)  # Use .median(axis=1) if needed\n",
            "<ipython-input-17-74304a270837>:26: PerformanceWarning: DataFrame is highly fragmented.  This is usually the result of calling `frame.insert` many times, which has poor performance.  Consider joining all columns at once using pd.concat(axis=1) instead. To get a de-fragmented frame, use `newframe = frame.copy()`\n",
            "  data[f'Cluster_{cluster}'] = data[cluster_features].mean(axis=1)  # Use .median(axis=1) if needed\n",
            "<ipython-input-17-74304a270837>:26: PerformanceWarning: DataFrame is highly fragmented.  This is usually the result of calling `frame.insert` many times, which has poor performance.  Consider joining all columns at once using pd.concat(axis=1) instead. To get a de-fragmented frame, use `newframe = frame.copy()`\n",
            "  data[f'Cluster_{cluster}'] = data[cluster_features].mean(axis=1)  # Use .median(axis=1) if needed\n",
            "<ipython-input-17-74304a270837>:26: PerformanceWarning: DataFrame is highly fragmented.  This is usually the result of calling `frame.insert` many times, which has poor performance.  Consider joining all columns at once using pd.concat(axis=1) instead. To get a de-fragmented frame, use `newframe = frame.copy()`\n",
            "  data[f'Cluster_{cluster}'] = data[cluster_features].mean(axis=1)  # Use .median(axis=1) if needed\n",
            "<ipython-input-17-74304a270837>:26: PerformanceWarning: DataFrame is highly fragmented.  This is usually the result of calling `frame.insert` many times, which has poor performance.  Consider joining all columns at once using pd.concat(axis=1) instead. To get a de-fragmented frame, use `newframe = frame.copy()`\n",
            "  data[f'Cluster_{cluster}'] = data[cluster_features].mean(axis=1)  # Use .median(axis=1) if needed\n",
            "<ipython-input-17-74304a270837>:26: PerformanceWarning: DataFrame is highly fragmented.  This is usually the result of calling `frame.insert` many times, which has poor performance.  Consider joining all columns at once using pd.concat(axis=1) instead. To get a de-fragmented frame, use `newframe = frame.copy()`\n",
            "  data[f'Cluster_{cluster}'] = data[cluster_features].mean(axis=1)  # Use .median(axis=1) if needed\n",
            "<ipython-input-17-74304a270837>:26: PerformanceWarning: DataFrame is highly fragmented.  This is usually the result of calling `frame.insert` many times, which has poor performance.  Consider joining all columns at once using pd.concat(axis=1) instead. To get a de-fragmented frame, use `newframe = frame.copy()`\n",
            "  data[f'Cluster_{cluster}'] = data[cluster_features].mean(axis=1)  # Use .median(axis=1) if needed\n",
            "<ipython-input-17-74304a270837>:26: PerformanceWarning: DataFrame is highly fragmented.  This is usually the result of calling `frame.insert` many times, which has poor performance.  Consider joining all columns at once using pd.concat(axis=1) instead. To get a de-fragmented frame, use `newframe = frame.copy()`\n",
            "  data[f'Cluster_{cluster}'] = data[cluster_features].mean(axis=1)  # Use .median(axis=1) if needed\n",
            "<ipython-input-17-74304a270837>:26: PerformanceWarning: DataFrame is highly fragmented.  This is usually the result of calling `frame.insert` many times, which has poor performance.  Consider joining all columns at once using pd.concat(axis=1) instead. To get a de-fragmented frame, use `newframe = frame.copy()`\n",
            "  data[f'Cluster_{cluster}'] = data[cluster_features].mean(axis=1)  # Use .median(axis=1) if needed\n",
            "<ipython-input-17-74304a270837>:26: PerformanceWarning: DataFrame is highly fragmented.  This is usually the result of calling `frame.insert` many times, which has poor performance.  Consider joining all columns at once using pd.concat(axis=1) instead. To get a de-fragmented frame, use `newframe = frame.copy()`\n",
            "  data[f'Cluster_{cluster}'] = data[cluster_features].mean(axis=1)  # Use .median(axis=1) if needed\n",
            "<ipython-input-17-74304a270837>:26: PerformanceWarning: DataFrame is highly fragmented.  This is usually the result of calling `frame.insert` many times, which has poor performance.  Consider joining all columns at once using pd.concat(axis=1) instead. To get a de-fragmented frame, use `newframe = frame.copy()`\n",
            "  data[f'Cluster_{cluster}'] = data[cluster_features].mean(axis=1)  # Use .median(axis=1) if needed\n",
            "<ipython-input-17-74304a270837>:26: PerformanceWarning: DataFrame is highly fragmented.  This is usually the result of calling `frame.insert` many times, which has poor performance.  Consider joining all columns at once using pd.concat(axis=1) instead. To get a de-fragmented frame, use `newframe = frame.copy()`\n",
            "  data[f'Cluster_{cluster}'] = data[cluster_features].mean(axis=1)  # Use .median(axis=1) if needed\n",
            "<ipython-input-17-74304a270837>:26: PerformanceWarning: DataFrame is highly fragmented.  This is usually the result of calling `frame.insert` many times, which has poor performance.  Consider joining all columns at once using pd.concat(axis=1) instead. To get a de-fragmented frame, use `newframe = frame.copy()`\n",
            "  data[f'Cluster_{cluster}'] = data[cluster_features].mean(axis=1)  # Use .median(axis=1) if needed\n",
            "<ipython-input-17-74304a270837>:26: PerformanceWarning: DataFrame is highly fragmented.  This is usually the result of calling `frame.insert` many times, which has poor performance.  Consider joining all columns at once using pd.concat(axis=1) instead. To get a de-fragmented frame, use `newframe = frame.copy()`\n",
            "  data[f'Cluster_{cluster}'] = data[cluster_features].mean(axis=1)  # Use .median(axis=1) if needed\n",
            "<ipython-input-17-74304a270837>:26: PerformanceWarning: DataFrame is highly fragmented.  This is usually the result of calling `frame.insert` many times, which has poor performance.  Consider joining all columns at once using pd.concat(axis=1) instead. To get a de-fragmented frame, use `newframe = frame.copy()`\n",
            "  data[f'Cluster_{cluster}'] = data[cluster_features].mean(axis=1)  # Use .median(axis=1) if needed\n",
            "<ipython-input-17-74304a270837>:26: PerformanceWarning: DataFrame is highly fragmented.  This is usually the result of calling `frame.insert` many times, which has poor performance.  Consider joining all columns at once using pd.concat(axis=1) instead. To get a de-fragmented frame, use `newframe = frame.copy()`\n",
            "  data[f'Cluster_{cluster}'] = data[cluster_features].mean(axis=1)  # Use .median(axis=1) if needed\n",
            "<ipython-input-17-74304a270837>:26: PerformanceWarning: DataFrame is highly fragmented.  This is usually the result of calling `frame.insert` many times, which has poor performance.  Consider joining all columns at once using pd.concat(axis=1) instead. To get a de-fragmented frame, use `newframe = frame.copy()`\n",
            "  data[f'Cluster_{cluster}'] = data[cluster_features].mean(axis=1)  # Use .median(axis=1) if needed\n",
            "<ipython-input-17-74304a270837>:26: PerformanceWarning: DataFrame is highly fragmented.  This is usually the result of calling `frame.insert` many times, which has poor performance.  Consider joining all columns at once using pd.concat(axis=1) instead. To get a de-fragmented frame, use `newframe = frame.copy()`\n",
            "  data[f'Cluster_{cluster}'] = data[cluster_features].mean(axis=1)  # Use .median(axis=1) if needed\n",
            "<ipython-input-17-74304a270837>:26: PerformanceWarning: DataFrame is highly fragmented.  This is usually the result of calling `frame.insert` many times, which has poor performance.  Consider joining all columns at once using pd.concat(axis=1) instead. To get a de-fragmented frame, use `newframe = frame.copy()`\n",
            "  data[f'Cluster_{cluster}'] = data[cluster_features].mean(axis=1)  # Use .median(axis=1) if needed\n",
            "<ipython-input-17-74304a270837>:26: PerformanceWarning: DataFrame is highly fragmented.  This is usually the result of calling `frame.insert` many times, which has poor performance.  Consider joining all columns at once using pd.concat(axis=1) instead. To get a de-fragmented frame, use `newframe = frame.copy()`\n",
            "  data[f'Cluster_{cluster}'] = data[cluster_features].mean(axis=1)  # Use .median(axis=1) if needed\n",
            "<ipython-input-17-74304a270837>:26: PerformanceWarning: DataFrame is highly fragmented.  This is usually the result of calling `frame.insert` many times, which has poor performance.  Consider joining all columns at once using pd.concat(axis=1) instead. To get a de-fragmented frame, use `newframe = frame.copy()`\n",
            "  data[f'Cluster_{cluster}'] = data[cluster_features].mean(axis=1)  # Use .median(axis=1) if needed\n",
            "<ipython-input-17-74304a270837>:26: PerformanceWarning: DataFrame is highly fragmented.  This is usually the result of calling `frame.insert` many times, which has poor performance.  Consider joining all columns at once using pd.concat(axis=1) instead. To get a de-fragmented frame, use `newframe = frame.copy()`\n",
            "  data[f'Cluster_{cluster}'] = data[cluster_features].mean(axis=1)  # Use .median(axis=1) if needed\n",
            "<ipython-input-17-74304a270837>:26: PerformanceWarning: DataFrame is highly fragmented.  This is usually the result of calling `frame.insert` many times, which has poor performance.  Consider joining all columns at once using pd.concat(axis=1) instead. To get a de-fragmented frame, use `newframe = frame.copy()`\n",
            "  data[f'Cluster_{cluster}'] = data[cluster_features].mean(axis=1)  # Use .median(axis=1) if needed\n",
            "<ipython-input-17-74304a270837>:26: PerformanceWarning: DataFrame is highly fragmented.  This is usually the result of calling `frame.insert` many times, which has poor performance.  Consider joining all columns at once using pd.concat(axis=1) instead. To get a de-fragmented frame, use `newframe = frame.copy()`\n",
            "  data[f'Cluster_{cluster}'] = data[cluster_features].mean(axis=1)  # Use .median(axis=1) if needed\n",
            "<ipython-input-17-74304a270837>:26: PerformanceWarning: DataFrame is highly fragmented.  This is usually the result of calling `frame.insert` many times, which has poor performance.  Consider joining all columns at once using pd.concat(axis=1) instead. To get a de-fragmented frame, use `newframe = frame.copy()`\n",
            "  data[f'Cluster_{cluster}'] = data[cluster_features].mean(axis=1)  # Use .median(axis=1) if needed\n",
            "<ipython-input-17-74304a270837>:26: PerformanceWarning: DataFrame is highly fragmented.  This is usually the result of calling `frame.insert` many times, which has poor performance.  Consider joining all columns at once using pd.concat(axis=1) instead. To get a de-fragmented frame, use `newframe = frame.copy()`\n",
            "  data[f'Cluster_{cluster}'] = data[cluster_features].mean(axis=1)  # Use .median(axis=1) if needed\n",
            "<ipython-input-17-74304a270837>:26: PerformanceWarning: DataFrame is highly fragmented.  This is usually the result of calling `frame.insert` many times, which has poor performance.  Consider joining all columns at once using pd.concat(axis=1) instead. To get a de-fragmented frame, use `newframe = frame.copy()`\n",
            "  data[f'Cluster_{cluster}'] = data[cluster_features].mean(axis=1)  # Use .median(axis=1) if needed\n",
            "<ipython-input-17-74304a270837>:26: PerformanceWarning: DataFrame is highly fragmented.  This is usually the result of calling `frame.insert` many times, which has poor performance.  Consider joining all columns at once using pd.concat(axis=1) instead. To get a de-fragmented frame, use `newframe = frame.copy()`\n",
            "  data[f'Cluster_{cluster}'] = data[cluster_features].mean(axis=1)  # Use .median(axis=1) if needed\n",
            "<ipython-input-17-74304a270837>:26: PerformanceWarning: DataFrame is highly fragmented.  This is usually the result of calling `frame.insert` many times, which has poor performance.  Consider joining all columns at once using pd.concat(axis=1) instead. To get a de-fragmented frame, use `newframe = frame.copy()`\n",
            "  data[f'Cluster_{cluster}'] = data[cluster_features].mean(axis=1)  # Use .median(axis=1) if needed\n",
            "<ipython-input-17-74304a270837>:26: PerformanceWarning: DataFrame is highly fragmented.  This is usually the result of calling `frame.insert` many times, which has poor performance.  Consider joining all columns at once using pd.concat(axis=1) instead. To get a de-fragmented frame, use `newframe = frame.copy()`\n",
            "  data[f'Cluster_{cluster}'] = data[cluster_features].mean(axis=1)  # Use .median(axis=1) if needed\n",
            "<ipython-input-17-74304a270837>:26: PerformanceWarning: DataFrame is highly fragmented.  This is usually the result of calling `frame.insert` many times, which has poor performance.  Consider joining all columns at once using pd.concat(axis=1) instead. To get a de-fragmented frame, use `newframe = frame.copy()`\n",
            "  data[f'Cluster_{cluster}'] = data[cluster_features].mean(axis=1)  # Use .median(axis=1) if needed\n",
            "<ipython-input-17-74304a270837>:26: PerformanceWarning: DataFrame is highly fragmented.  This is usually the result of calling `frame.insert` many times, which has poor performance.  Consider joining all columns at once using pd.concat(axis=1) instead. To get a de-fragmented frame, use `newframe = frame.copy()`\n",
            "  data[f'Cluster_{cluster}'] = data[cluster_features].mean(axis=1)  # Use .median(axis=1) if needed\n",
            "<ipython-input-17-74304a270837>:26: PerformanceWarning: DataFrame is highly fragmented.  This is usually the result of calling `frame.insert` many times, which has poor performance.  Consider joining all columns at once using pd.concat(axis=1) instead. To get a de-fragmented frame, use `newframe = frame.copy()`\n",
            "  data[f'Cluster_{cluster}'] = data[cluster_features].mean(axis=1)  # Use .median(axis=1) if needed\n",
            "<ipython-input-17-74304a270837>:26: PerformanceWarning: DataFrame is highly fragmented.  This is usually the result of calling `frame.insert` many times, which has poor performance.  Consider joining all columns at once using pd.concat(axis=1) instead. To get a de-fragmented frame, use `newframe = frame.copy()`\n",
            "  data[f'Cluster_{cluster}'] = data[cluster_features].mean(axis=1)  # Use .median(axis=1) if needed\n",
            "<ipython-input-17-74304a270837>:26: PerformanceWarning: DataFrame is highly fragmented.  This is usually the result of calling `frame.insert` many times, which has poor performance.  Consider joining all columns at once using pd.concat(axis=1) instead. To get a de-fragmented frame, use `newframe = frame.copy()`\n",
            "  data[f'Cluster_{cluster}'] = data[cluster_features].mean(axis=1)  # Use .median(axis=1) if needed\n",
            "<ipython-input-17-74304a270837>:26: PerformanceWarning: DataFrame is highly fragmented.  This is usually the result of calling `frame.insert` many times, which has poor performance.  Consider joining all columns at once using pd.concat(axis=1) instead. To get a de-fragmented frame, use `newframe = frame.copy()`\n",
            "  data[f'Cluster_{cluster}'] = data[cluster_features].mean(axis=1)  # Use .median(axis=1) if needed\n",
            "<ipython-input-17-74304a270837>:26: PerformanceWarning: DataFrame is highly fragmented.  This is usually the result of calling `frame.insert` many times, which has poor performance.  Consider joining all columns at once using pd.concat(axis=1) instead. To get a de-fragmented frame, use `newframe = frame.copy()`\n",
            "  data[f'Cluster_{cluster}'] = data[cluster_features].mean(axis=1)  # Use .median(axis=1) if needed\n",
            "<ipython-input-17-74304a270837>:26: PerformanceWarning: DataFrame is highly fragmented.  This is usually the result of calling `frame.insert` many times, which has poor performance.  Consider joining all columns at once using pd.concat(axis=1) instead. To get a de-fragmented frame, use `newframe = frame.copy()`\n",
            "  data[f'Cluster_{cluster}'] = data[cluster_features].mean(axis=1)  # Use .median(axis=1) if needed\n",
            "<ipython-input-17-74304a270837>:26: PerformanceWarning: DataFrame is highly fragmented.  This is usually the result of calling `frame.insert` many times, which has poor performance.  Consider joining all columns at once using pd.concat(axis=1) instead. To get a de-fragmented frame, use `newframe = frame.copy()`\n",
            "  data[f'Cluster_{cluster}'] = data[cluster_features].mean(axis=1)  # Use .median(axis=1) if needed\n",
            "<ipython-input-17-74304a270837>:26: PerformanceWarning: DataFrame is highly fragmented.  This is usually the result of calling `frame.insert` many times, which has poor performance.  Consider joining all columns at once using pd.concat(axis=1) instead. To get a de-fragmented frame, use `newframe = frame.copy()`\n",
            "  data[f'Cluster_{cluster}'] = data[cluster_features].mean(axis=1)  # Use .median(axis=1) if needed\n",
            "<ipython-input-17-74304a270837>:26: PerformanceWarning: DataFrame is highly fragmented.  This is usually the result of calling `frame.insert` many times, which has poor performance.  Consider joining all columns at once using pd.concat(axis=1) instead. To get a de-fragmented frame, use `newframe = frame.copy()`\n",
            "  data[f'Cluster_{cluster}'] = data[cluster_features].mean(axis=1)  # Use .median(axis=1) if needed\n",
            "<ipython-input-17-74304a270837>:26: PerformanceWarning: DataFrame is highly fragmented.  This is usually the result of calling `frame.insert` many times, which has poor performance.  Consider joining all columns at once using pd.concat(axis=1) instead. To get a de-fragmented frame, use `newframe = frame.copy()`\n",
            "  data[f'Cluster_{cluster}'] = data[cluster_features].mean(axis=1)  # Use .median(axis=1) if needed\n",
            "<ipython-input-17-74304a270837>:26: PerformanceWarning: DataFrame is highly fragmented.  This is usually the result of calling `frame.insert` many times, which has poor performance.  Consider joining all columns at once using pd.concat(axis=1) instead. To get a de-fragmented frame, use `newframe = frame.copy()`\n",
            "  data[f'Cluster_{cluster}'] = data[cluster_features].mean(axis=1)  # Use .median(axis=1) if needed\n",
            "<ipython-input-17-74304a270837>:26: PerformanceWarning: DataFrame is highly fragmented.  This is usually the result of calling `frame.insert` many times, which has poor performance.  Consider joining all columns at once using pd.concat(axis=1) instead. To get a de-fragmented frame, use `newframe = frame.copy()`\n",
            "  data[f'Cluster_{cluster}'] = data[cluster_features].mean(axis=1)  # Use .median(axis=1) if needed\n",
            "<ipython-input-17-74304a270837>:26: PerformanceWarning: DataFrame is highly fragmented.  This is usually the result of calling `frame.insert` many times, which has poor performance.  Consider joining all columns at once using pd.concat(axis=1) instead. To get a de-fragmented frame, use `newframe = frame.copy()`\n",
            "  data[f'Cluster_{cluster}'] = data[cluster_features].mean(axis=1)  # Use .median(axis=1) if needed\n",
            "<ipython-input-17-74304a270837>:26: PerformanceWarning: DataFrame is highly fragmented.  This is usually the result of calling `frame.insert` many times, which has poor performance.  Consider joining all columns at once using pd.concat(axis=1) instead. To get a de-fragmented frame, use `newframe = frame.copy()`\n",
            "  data[f'Cluster_{cluster}'] = data[cluster_features].mean(axis=1)  # Use .median(axis=1) if needed\n",
            "<ipython-input-17-74304a270837>:26: PerformanceWarning: DataFrame is highly fragmented.  This is usually the result of calling `frame.insert` many times, which has poor performance.  Consider joining all columns at once using pd.concat(axis=1) instead. To get a de-fragmented frame, use `newframe = frame.copy()`\n",
            "  data[f'Cluster_{cluster}'] = data[cluster_features].mean(axis=1)  # Use .median(axis=1) if needed\n",
            "<ipython-input-17-74304a270837>:26: PerformanceWarning: DataFrame is highly fragmented.  This is usually the result of calling `frame.insert` many times, which has poor performance.  Consider joining all columns at once using pd.concat(axis=1) instead. To get a de-fragmented frame, use `newframe = frame.copy()`\n",
            "  data[f'Cluster_{cluster}'] = data[cluster_features].mean(axis=1)  # Use .median(axis=1) if needed\n",
            "<ipython-input-17-74304a270837>:26: PerformanceWarning: DataFrame is highly fragmented.  This is usually the result of calling `frame.insert` many times, which has poor performance.  Consider joining all columns at once using pd.concat(axis=1) instead. To get a de-fragmented frame, use `newframe = frame.copy()`\n",
            "  data[f'Cluster_{cluster}'] = data[cluster_features].mean(axis=1)  # Use .median(axis=1) if needed\n",
            "<ipython-input-17-74304a270837>:26: PerformanceWarning: DataFrame is highly fragmented.  This is usually the result of calling `frame.insert` many times, which has poor performance.  Consider joining all columns at once using pd.concat(axis=1) instead. To get a de-fragmented frame, use `newframe = frame.copy()`\n",
            "  data[f'Cluster_{cluster}'] = data[cluster_features].mean(axis=1)  # Use .median(axis=1) if needed\n",
            "<ipython-input-17-74304a270837>:26: PerformanceWarning: DataFrame is highly fragmented.  This is usually the result of calling `frame.insert` many times, which has poor performance.  Consider joining all columns at once using pd.concat(axis=1) instead. To get a de-fragmented frame, use `newframe = frame.copy()`\n",
            "  data[f'Cluster_{cluster}'] = data[cluster_features].mean(axis=1)  # Use .median(axis=1) if needed\n",
            "<ipython-input-17-74304a270837>:26: PerformanceWarning: DataFrame is highly fragmented.  This is usually the result of calling `frame.insert` many times, which has poor performance.  Consider joining all columns at once using pd.concat(axis=1) instead. To get a de-fragmented frame, use `newframe = frame.copy()`\n",
            "  data[f'Cluster_{cluster}'] = data[cluster_features].mean(axis=1)  # Use .median(axis=1) if needed\n",
            "<ipython-input-17-74304a270837>:26: PerformanceWarning: DataFrame is highly fragmented.  This is usually the result of calling `frame.insert` many times, which has poor performance.  Consider joining all columns at once using pd.concat(axis=1) instead. To get a de-fragmented frame, use `newframe = frame.copy()`\n",
            "  data[f'Cluster_{cluster}'] = data[cluster_features].mean(axis=1)  # Use .median(axis=1) if needed\n"
          ]
        },
        {
          "output_type": "execute_result",
          "data": {
            "text/plain": [
              "(590540, 636)"
            ]
          },
          "metadata": {},
          "execution_count": 17
        }
      ]
    },
    {
      "cell_type": "code",
      "source": [
        "# Validate Separation Using Silhouette Score\n",
        "silhouette = silhouette_score(feature_matrix_pca, feature_clusters,\n",
        "                              metric = 'cosine')\n",
        "print(f\"Silhouette Score for Feature Clustering: {silhouette:.4f}\")"
      ],
      "metadata": {
        "colab": {
          "base_uri": "https://localhost:8080/"
        },
        "id": "Bj4e9p_nTtI0",
        "outputId": "b33858cd-9391-478d-849f-b27338a378d1"
      },
      "execution_count": null,
      "outputs": [
        {
          "output_type": "stream",
          "name": "stdout",
          "text": [
            "Silhouette Score for Feature Clustering: 0.6202\n"
          ]
        }
      ]
    },
    {
      "cell_type": "code",
      "source": [
        "data.drop(columns = feature_columns, inplace = True)\n",
        "data.shape"
      ],
      "metadata": {
        "colab": {
          "base_uri": "https://localhost:8080/"
        },
        "id": "--ewJ04sUlKk",
        "outputId": "f7d38e0a-e94d-4049-d5ca-6e5699ae35aa"
      },
      "execution_count": null,
      "outputs": [
        {
          "output_type": "execute_result",
          "data": {
            "text/plain": [
              "(590540, 297)"
            ]
          },
          "metadata": {},
          "execution_count": 18
        }
      ]
    },
    {
      "cell_type": "markdown",
      "source": [
        "### Remove low-variance features"
      ],
      "metadata": {
        "id": "eGRbmzewj3Kf"
      }
    },
    {
      "cell_type": "code",
      "source": [
        "# Select dtypes\n",
        "numeric_cols = data.select_dtypes(include = ['number']).columns\n",
        "categorical_cols = data.select_dtypes(include = ['object', 'category']).columns\n",
        "\n",
        "# Calculate variance for each feature\n",
        "variances = data[numeric_cols].var()\n",
        "\n",
        "# Identify low-variance features\n",
        "low_variance_features = variances[variances < 0.01].index\n",
        "\n",
        "# Drop low-variance features\n",
        "data.drop(columns = low_variance_features, inplace = True)\n",
        "\n",
        "# Check the result\n",
        "print('Shape after dropping low-variance features:', data.shape)"
      ],
      "metadata": {
        "id": "30pkhXRQEiam",
        "colab": {
          "base_uri": "https://localhost:8080/"
        },
        "outputId": "2fa3e7f3-697b-4613-81b5-bd457c704271"
      },
      "execution_count": null,
      "outputs": [
        {
          "output_type": "stream",
          "name": "stdout",
          "text": [
            "Shape after dropping low-variance features: (590540, 278)\n"
          ]
        }
      ]
    },
    {
      "cell_type": "markdown",
      "source": [
        "## Baseline LGBM & Feature Selection"
      ],
      "metadata": {
        "id": "V8RNWV7IV8cS"
      }
    },
    {
      "cell_type": "code",
      "source": [
        "# Identify categorical and numerical columns\n",
        "numerical_cols = data.select_dtypes(include = ['number']).columns\n",
        "categorical_cols = data.select_dtypes(include = ['object', 'category']).columns\n",
        "data[categorical_cols] = data[categorical_cols].astype('category')"
      ],
      "metadata": {
        "id": "jaUGry9rvZRn"
      },
      "execution_count": null,
      "outputs": []
    },
    {
      "cell_type": "code",
      "source": [
        "# Prepare data\n",
        "X = data.drop(columns = ['isFraud'])\n",
        "y = data['isFraud']\n",
        "\n",
        "# Split into train and test sets (time-based split)\n",
        "train_size = int(0.8 * len(data))\n",
        "X_train, X_test = X.iloc[:train_size], X.iloc[train_size:]\n",
        "y_train, y_test = y.iloc[:train_size], y.iloc[train_size:]\n",
        "\n",
        "# Train LightGBM\n",
        "neg_count, pos_count = np.bincount(y_train)\n",
        "scale_pos_weight = neg_count / pos_count\n",
        "model = lgb.LGBMClassifier(scale_pos_weight = scale_pos_weight, random_state = 42)\n",
        "model.fit(X_train, y_train)"
      ],
      "metadata": {
        "id": "oi7kJ1CRVmpw",
        "colab": {
          "base_uri": "https://localhost:8080/",
          "height": 259
        },
        "outputId": "bad28058-cc3c-4de2-b129-c1dea6bb9a4d"
      },
      "execution_count": null,
      "outputs": [
        {
          "output_type": "stream",
          "name": "stdout",
          "text": [
            "[LightGBM] [Warning] Categorical features with more bins than the configured maximum bin number found.\n",
            "[LightGBM] [Warning] For categorical features, max_bin and max_bin_by_feature may be ignored with a large number of categories.\n",
            "[LightGBM] [Info] Number of positive: 16599, number of negative: 455833\n",
            "[LightGBM] [Info] Auto-choosing row-wise multi-threading, the overhead of testing was 0.239213 seconds.\n",
            "You can set `force_row_wise=true` to remove the overhead.\n",
            "And if memory is not enough, you can set `force_col_wise=true`.\n",
            "[LightGBM] [Info] Total Bins 101093\n",
            "[LightGBM] [Info] Number of data points in the train set: 472432, number of used features: 276\n",
            "[LightGBM] [Info] [binary:BoostFromScore]: pavg=0.035135 -> initscore=-3.312784\n",
            "[LightGBM] [Info] Start training from score -3.312784\n"
          ]
        },
        {
          "output_type": "execute_result",
          "data": {
            "text/plain": [
              "LGBMClassifier(random_state=42, scale_pos_weight=27.46147358274595)"
            ],
            "text/html": [
              "<style>#sk-container-id-3 {\n",
              "  /* Definition of color scheme common for light and dark mode */\n",
              "  --sklearn-color-text: #000;\n",
              "  --sklearn-color-text-muted: #666;\n",
              "  --sklearn-color-line: gray;\n",
              "  /* Definition of color scheme for unfitted estimators */\n",
              "  --sklearn-color-unfitted-level-0: #fff5e6;\n",
              "  --sklearn-color-unfitted-level-1: #f6e4d2;\n",
              "  --sklearn-color-unfitted-level-2: #ffe0b3;\n",
              "  --sklearn-color-unfitted-level-3: chocolate;\n",
              "  /* Definition of color scheme for fitted estimators */\n",
              "  --sklearn-color-fitted-level-0: #f0f8ff;\n",
              "  --sklearn-color-fitted-level-1: #d4ebff;\n",
              "  --sklearn-color-fitted-level-2: #b3dbfd;\n",
              "  --sklearn-color-fitted-level-3: cornflowerblue;\n",
              "\n",
              "  /* Specific color for light theme */\n",
              "  --sklearn-color-text-on-default-background: var(--sg-text-color, var(--theme-code-foreground, var(--jp-content-font-color1, black)));\n",
              "  --sklearn-color-background: var(--sg-background-color, var(--theme-background, var(--jp-layout-color0, white)));\n",
              "  --sklearn-color-border-box: var(--sg-text-color, var(--theme-code-foreground, var(--jp-content-font-color1, black)));\n",
              "  --sklearn-color-icon: #696969;\n",
              "\n",
              "  @media (prefers-color-scheme: dark) {\n",
              "    /* Redefinition of color scheme for dark theme */\n",
              "    --sklearn-color-text-on-default-background: var(--sg-text-color, var(--theme-code-foreground, var(--jp-content-font-color1, white)));\n",
              "    --sklearn-color-background: var(--sg-background-color, var(--theme-background, var(--jp-layout-color0, #111)));\n",
              "    --sklearn-color-border-box: var(--sg-text-color, var(--theme-code-foreground, var(--jp-content-font-color1, white)));\n",
              "    --sklearn-color-icon: #878787;\n",
              "  }\n",
              "}\n",
              "\n",
              "#sk-container-id-3 {\n",
              "  color: var(--sklearn-color-text);\n",
              "}\n",
              "\n",
              "#sk-container-id-3 pre {\n",
              "  padding: 0;\n",
              "}\n",
              "\n",
              "#sk-container-id-3 input.sk-hidden--visually {\n",
              "  border: 0;\n",
              "  clip: rect(1px 1px 1px 1px);\n",
              "  clip: rect(1px, 1px, 1px, 1px);\n",
              "  height: 1px;\n",
              "  margin: -1px;\n",
              "  overflow: hidden;\n",
              "  padding: 0;\n",
              "  position: absolute;\n",
              "  width: 1px;\n",
              "}\n",
              "\n",
              "#sk-container-id-3 div.sk-dashed-wrapped {\n",
              "  border: 1px dashed var(--sklearn-color-line);\n",
              "  margin: 0 0.4em 0.5em 0.4em;\n",
              "  box-sizing: border-box;\n",
              "  padding-bottom: 0.4em;\n",
              "  background-color: var(--sklearn-color-background);\n",
              "}\n",
              "\n",
              "#sk-container-id-3 div.sk-container {\n",
              "  /* jupyter's `normalize.less` sets `[hidden] { display: none; }`\n",
              "     but bootstrap.min.css set `[hidden] { display: none !important; }`\n",
              "     so we also need the `!important` here to be able to override the\n",
              "     default hidden behavior on the sphinx rendered scikit-learn.org.\n",
              "     See: https://github.com/scikit-learn/scikit-learn/issues/21755 */\n",
              "  display: inline-block !important;\n",
              "  position: relative;\n",
              "}\n",
              "\n",
              "#sk-container-id-3 div.sk-text-repr-fallback {\n",
              "  display: none;\n",
              "}\n",
              "\n",
              "div.sk-parallel-item,\n",
              "div.sk-serial,\n",
              "div.sk-item {\n",
              "  /* draw centered vertical line to link estimators */\n",
              "  background-image: linear-gradient(var(--sklearn-color-text-on-default-background), var(--sklearn-color-text-on-default-background));\n",
              "  background-size: 2px 100%;\n",
              "  background-repeat: no-repeat;\n",
              "  background-position: center center;\n",
              "}\n",
              "\n",
              "/* Parallel-specific style estimator block */\n",
              "\n",
              "#sk-container-id-3 div.sk-parallel-item::after {\n",
              "  content: \"\";\n",
              "  width: 100%;\n",
              "  border-bottom: 2px solid var(--sklearn-color-text-on-default-background);\n",
              "  flex-grow: 1;\n",
              "}\n",
              "\n",
              "#sk-container-id-3 div.sk-parallel {\n",
              "  display: flex;\n",
              "  align-items: stretch;\n",
              "  justify-content: center;\n",
              "  background-color: var(--sklearn-color-background);\n",
              "  position: relative;\n",
              "}\n",
              "\n",
              "#sk-container-id-3 div.sk-parallel-item {\n",
              "  display: flex;\n",
              "  flex-direction: column;\n",
              "}\n",
              "\n",
              "#sk-container-id-3 div.sk-parallel-item:first-child::after {\n",
              "  align-self: flex-end;\n",
              "  width: 50%;\n",
              "}\n",
              "\n",
              "#sk-container-id-3 div.sk-parallel-item:last-child::after {\n",
              "  align-self: flex-start;\n",
              "  width: 50%;\n",
              "}\n",
              "\n",
              "#sk-container-id-3 div.sk-parallel-item:only-child::after {\n",
              "  width: 0;\n",
              "}\n",
              "\n",
              "/* Serial-specific style estimator block */\n",
              "\n",
              "#sk-container-id-3 div.sk-serial {\n",
              "  display: flex;\n",
              "  flex-direction: column;\n",
              "  align-items: center;\n",
              "  background-color: var(--sklearn-color-background);\n",
              "  padding-right: 1em;\n",
              "  padding-left: 1em;\n",
              "}\n",
              "\n",
              "\n",
              "/* Toggleable style: style used for estimator/Pipeline/ColumnTransformer box that is\n",
              "clickable and can be expanded/collapsed.\n",
              "- Pipeline and ColumnTransformer use this feature and define the default style\n",
              "- Estimators will overwrite some part of the style using the `sk-estimator` class\n",
              "*/\n",
              "\n",
              "/* Pipeline and ColumnTransformer style (default) */\n",
              "\n",
              "#sk-container-id-3 div.sk-toggleable {\n",
              "  /* Default theme specific background. It is overwritten whether we have a\n",
              "  specific estimator or a Pipeline/ColumnTransformer */\n",
              "  background-color: var(--sklearn-color-background);\n",
              "}\n",
              "\n",
              "/* Toggleable label */\n",
              "#sk-container-id-3 label.sk-toggleable__label {\n",
              "  cursor: pointer;\n",
              "  display: flex;\n",
              "  width: 100%;\n",
              "  margin-bottom: 0;\n",
              "  padding: 0.5em;\n",
              "  box-sizing: border-box;\n",
              "  text-align: center;\n",
              "  align-items: start;\n",
              "  justify-content: space-between;\n",
              "  gap: 0.5em;\n",
              "}\n",
              "\n",
              "#sk-container-id-3 label.sk-toggleable__label .caption {\n",
              "  font-size: 0.6rem;\n",
              "  font-weight: lighter;\n",
              "  color: var(--sklearn-color-text-muted);\n",
              "}\n",
              "\n",
              "#sk-container-id-3 label.sk-toggleable__label-arrow:before {\n",
              "  /* Arrow on the left of the label */\n",
              "  content: \"▸\";\n",
              "  float: left;\n",
              "  margin-right: 0.25em;\n",
              "  color: var(--sklearn-color-icon);\n",
              "}\n",
              "\n",
              "#sk-container-id-3 label.sk-toggleable__label-arrow:hover:before {\n",
              "  color: var(--sklearn-color-text);\n",
              "}\n",
              "\n",
              "/* Toggleable content - dropdown */\n",
              "\n",
              "#sk-container-id-3 div.sk-toggleable__content {\n",
              "  max-height: 0;\n",
              "  max-width: 0;\n",
              "  overflow: hidden;\n",
              "  text-align: left;\n",
              "  /* unfitted */\n",
              "  background-color: var(--sklearn-color-unfitted-level-0);\n",
              "}\n",
              "\n",
              "#sk-container-id-3 div.sk-toggleable__content.fitted {\n",
              "  /* fitted */\n",
              "  background-color: var(--sklearn-color-fitted-level-0);\n",
              "}\n",
              "\n",
              "#sk-container-id-3 div.sk-toggleable__content pre {\n",
              "  margin: 0.2em;\n",
              "  border-radius: 0.25em;\n",
              "  color: var(--sklearn-color-text);\n",
              "  /* unfitted */\n",
              "  background-color: var(--sklearn-color-unfitted-level-0);\n",
              "}\n",
              "\n",
              "#sk-container-id-3 div.sk-toggleable__content.fitted pre {\n",
              "  /* unfitted */\n",
              "  background-color: var(--sklearn-color-fitted-level-0);\n",
              "}\n",
              "\n",
              "#sk-container-id-3 input.sk-toggleable__control:checked~div.sk-toggleable__content {\n",
              "  /* Expand drop-down */\n",
              "  max-height: 200px;\n",
              "  max-width: 100%;\n",
              "  overflow: auto;\n",
              "}\n",
              "\n",
              "#sk-container-id-3 input.sk-toggleable__control:checked~label.sk-toggleable__label-arrow:before {\n",
              "  content: \"▾\";\n",
              "}\n",
              "\n",
              "/* Pipeline/ColumnTransformer-specific style */\n",
              "\n",
              "#sk-container-id-3 div.sk-label input.sk-toggleable__control:checked~label.sk-toggleable__label {\n",
              "  color: var(--sklearn-color-text);\n",
              "  background-color: var(--sklearn-color-unfitted-level-2);\n",
              "}\n",
              "\n",
              "#sk-container-id-3 div.sk-label.fitted input.sk-toggleable__control:checked~label.sk-toggleable__label {\n",
              "  background-color: var(--sklearn-color-fitted-level-2);\n",
              "}\n",
              "\n",
              "/* Estimator-specific style */\n",
              "\n",
              "/* Colorize estimator box */\n",
              "#sk-container-id-3 div.sk-estimator input.sk-toggleable__control:checked~label.sk-toggleable__label {\n",
              "  /* unfitted */\n",
              "  background-color: var(--sklearn-color-unfitted-level-2);\n",
              "}\n",
              "\n",
              "#sk-container-id-3 div.sk-estimator.fitted input.sk-toggleable__control:checked~label.sk-toggleable__label {\n",
              "  /* fitted */\n",
              "  background-color: var(--sklearn-color-fitted-level-2);\n",
              "}\n",
              "\n",
              "#sk-container-id-3 div.sk-label label.sk-toggleable__label,\n",
              "#sk-container-id-3 div.sk-label label {\n",
              "  /* The background is the default theme color */\n",
              "  color: var(--sklearn-color-text-on-default-background);\n",
              "}\n",
              "\n",
              "/* On hover, darken the color of the background */\n",
              "#sk-container-id-3 div.sk-label:hover label.sk-toggleable__label {\n",
              "  color: var(--sklearn-color-text);\n",
              "  background-color: var(--sklearn-color-unfitted-level-2);\n",
              "}\n",
              "\n",
              "/* Label box, darken color on hover, fitted */\n",
              "#sk-container-id-3 div.sk-label.fitted:hover label.sk-toggleable__label.fitted {\n",
              "  color: var(--sklearn-color-text);\n",
              "  background-color: var(--sklearn-color-fitted-level-2);\n",
              "}\n",
              "\n",
              "/* Estimator label */\n",
              "\n",
              "#sk-container-id-3 div.sk-label label {\n",
              "  font-family: monospace;\n",
              "  font-weight: bold;\n",
              "  display: inline-block;\n",
              "  line-height: 1.2em;\n",
              "}\n",
              "\n",
              "#sk-container-id-3 div.sk-label-container {\n",
              "  text-align: center;\n",
              "}\n",
              "\n",
              "/* Estimator-specific */\n",
              "#sk-container-id-3 div.sk-estimator {\n",
              "  font-family: monospace;\n",
              "  border: 1px dotted var(--sklearn-color-border-box);\n",
              "  border-radius: 0.25em;\n",
              "  box-sizing: border-box;\n",
              "  margin-bottom: 0.5em;\n",
              "  /* unfitted */\n",
              "  background-color: var(--sklearn-color-unfitted-level-0);\n",
              "}\n",
              "\n",
              "#sk-container-id-3 div.sk-estimator.fitted {\n",
              "  /* fitted */\n",
              "  background-color: var(--sklearn-color-fitted-level-0);\n",
              "}\n",
              "\n",
              "/* on hover */\n",
              "#sk-container-id-3 div.sk-estimator:hover {\n",
              "  /* unfitted */\n",
              "  background-color: var(--sklearn-color-unfitted-level-2);\n",
              "}\n",
              "\n",
              "#sk-container-id-3 div.sk-estimator.fitted:hover {\n",
              "  /* fitted */\n",
              "  background-color: var(--sklearn-color-fitted-level-2);\n",
              "}\n",
              "\n",
              "/* Specification for estimator info (e.g. \"i\" and \"?\") */\n",
              "\n",
              "/* Common style for \"i\" and \"?\" */\n",
              "\n",
              ".sk-estimator-doc-link,\n",
              "a:link.sk-estimator-doc-link,\n",
              "a:visited.sk-estimator-doc-link {\n",
              "  float: right;\n",
              "  font-size: smaller;\n",
              "  line-height: 1em;\n",
              "  font-family: monospace;\n",
              "  background-color: var(--sklearn-color-background);\n",
              "  border-radius: 1em;\n",
              "  height: 1em;\n",
              "  width: 1em;\n",
              "  text-decoration: none !important;\n",
              "  margin-left: 0.5em;\n",
              "  text-align: center;\n",
              "  /* unfitted */\n",
              "  border: var(--sklearn-color-unfitted-level-1) 1pt solid;\n",
              "  color: var(--sklearn-color-unfitted-level-1);\n",
              "}\n",
              "\n",
              ".sk-estimator-doc-link.fitted,\n",
              "a:link.sk-estimator-doc-link.fitted,\n",
              "a:visited.sk-estimator-doc-link.fitted {\n",
              "  /* fitted */\n",
              "  border: var(--sklearn-color-fitted-level-1) 1pt solid;\n",
              "  color: var(--sklearn-color-fitted-level-1);\n",
              "}\n",
              "\n",
              "/* On hover */\n",
              "div.sk-estimator:hover .sk-estimator-doc-link:hover,\n",
              ".sk-estimator-doc-link:hover,\n",
              "div.sk-label-container:hover .sk-estimator-doc-link:hover,\n",
              ".sk-estimator-doc-link:hover {\n",
              "  /* unfitted */\n",
              "  background-color: var(--sklearn-color-unfitted-level-3);\n",
              "  color: var(--sklearn-color-background);\n",
              "  text-decoration: none;\n",
              "}\n",
              "\n",
              "div.sk-estimator.fitted:hover .sk-estimator-doc-link.fitted:hover,\n",
              ".sk-estimator-doc-link.fitted:hover,\n",
              "div.sk-label-container:hover .sk-estimator-doc-link.fitted:hover,\n",
              ".sk-estimator-doc-link.fitted:hover {\n",
              "  /* fitted */\n",
              "  background-color: var(--sklearn-color-fitted-level-3);\n",
              "  color: var(--sklearn-color-background);\n",
              "  text-decoration: none;\n",
              "}\n",
              "\n",
              "/* Span, style for the box shown on hovering the info icon */\n",
              ".sk-estimator-doc-link span {\n",
              "  display: none;\n",
              "  z-index: 9999;\n",
              "  position: relative;\n",
              "  font-weight: normal;\n",
              "  right: .2ex;\n",
              "  padding: .5ex;\n",
              "  margin: .5ex;\n",
              "  width: min-content;\n",
              "  min-width: 20ex;\n",
              "  max-width: 50ex;\n",
              "  color: var(--sklearn-color-text);\n",
              "  box-shadow: 2pt 2pt 4pt #999;\n",
              "  /* unfitted */\n",
              "  background: var(--sklearn-color-unfitted-level-0);\n",
              "  border: .5pt solid var(--sklearn-color-unfitted-level-3);\n",
              "}\n",
              "\n",
              ".sk-estimator-doc-link.fitted span {\n",
              "  /* fitted */\n",
              "  background: var(--sklearn-color-fitted-level-0);\n",
              "  border: var(--sklearn-color-fitted-level-3);\n",
              "}\n",
              "\n",
              ".sk-estimator-doc-link:hover span {\n",
              "  display: block;\n",
              "}\n",
              "\n",
              "/* \"?\"-specific style due to the `<a>` HTML tag */\n",
              "\n",
              "#sk-container-id-3 a.estimator_doc_link {\n",
              "  float: right;\n",
              "  font-size: 1rem;\n",
              "  line-height: 1em;\n",
              "  font-family: monospace;\n",
              "  background-color: var(--sklearn-color-background);\n",
              "  border-radius: 1rem;\n",
              "  height: 1rem;\n",
              "  width: 1rem;\n",
              "  text-decoration: none;\n",
              "  /* unfitted */\n",
              "  color: var(--sklearn-color-unfitted-level-1);\n",
              "  border: var(--sklearn-color-unfitted-level-1) 1pt solid;\n",
              "}\n",
              "\n",
              "#sk-container-id-3 a.estimator_doc_link.fitted {\n",
              "  /* fitted */\n",
              "  border: var(--sklearn-color-fitted-level-1) 1pt solid;\n",
              "  color: var(--sklearn-color-fitted-level-1);\n",
              "}\n",
              "\n",
              "/* On hover */\n",
              "#sk-container-id-3 a.estimator_doc_link:hover {\n",
              "  /* unfitted */\n",
              "  background-color: var(--sklearn-color-unfitted-level-3);\n",
              "  color: var(--sklearn-color-background);\n",
              "  text-decoration: none;\n",
              "}\n",
              "\n",
              "#sk-container-id-3 a.estimator_doc_link.fitted:hover {\n",
              "  /* fitted */\n",
              "  background-color: var(--sklearn-color-fitted-level-3);\n",
              "}\n",
              "</style><div id=\"sk-container-id-3\" class=\"sk-top-container\"><div class=\"sk-text-repr-fallback\"><pre>LGBMClassifier(random_state=42, scale_pos_weight=27.46147358274595)</pre><b>In a Jupyter environment, please rerun this cell to show the HTML representation or trust the notebook. <br />On GitHub, the HTML representation is unable to render, please try loading this page with nbviewer.org.</b></div><div class=\"sk-container\" hidden><div class=\"sk-item\"><div class=\"sk-estimator fitted sk-toggleable\"><input class=\"sk-toggleable__control sk-hidden--visually\" id=\"sk-estimator-id-3\" type=\"checkbox\" checked><label for=\"sk-estimator-id-3\" class=\"sk-toggleable__label fitted sk-toggleable__label-arrow\"><div><div>LGBMClassifier</div></div><div><span class=\"sk-estimator-doc-link fitted\">i<span>Fitted</span></span></div></label><div class=\"sk-toggleable__content fitted\"><pre>LGBMClassifier(random_state=42, scale_pos_weight=27.46147358274595)</pre></div> </div></div></div></div>"
            ]
          },
          "metadata": {},
          "execution_count": 32
        }
      ]
    },
    {
      "cell_type": "code",
      "source": [
        "# Evaluate model performance\n",
        "y_pred = model.predict(X_test)\n",
        "roc_auc = roc_auc_score(y_test, y_pred)\n",
        "print('Test ROC-AUC score:', roc_auc)\n",
        "print(classification_report(y_test, y_pred))"
      ],
      "metadata": {
        "colab": {
          "base_uri": "https://localhost:8080/"
        },
        "id": "6menHDaD0nlI",
        "outputId": "42a607c3-2602-4b64-f299-a13a9d461f7b"
      },
      "execution_count": null,
      "outputs": [
        {
          "output_type": "stream",
          "name": "stdout",
          "text": [
            "Test ROC-AUC score: 0.8073951401061671\n",
            "              precision    recall  f1-score   support\n",
            "\n",
            "           0       0.99      0.97      0.98    114044\n",
            "           1       0.41      0.65      0.51      4064\n",
            "\n",
            "    accuracy                           0.96    118108\n",
            "   macro avg       0.70      0.81      0.74    118108\n",
            "weighted avg       0.97      0.96      0.96    118108\n",
            "\n"
          ]
        }
      ]
    },
    {
      "cell_type": "code",
      "source": [
        "# Plot top 50 features\n",
        "features = model.feature_importances_\n",
        "features = pd.Series(features, index\n",
        "                     = X_train.columns).sort_values(ascending = False).head(50)\n",
        "plt.figure(figsize = (12, 6))\n",
        "plt.bar(features.index, features.values, color = 'slateblue')\n",
        "plt.xticks(rotation = 90)\n",
        "plt.title('Top 50 Features by Importance')\n",
        "plt.xlabel('Features')\n",
        "plt.ylabel('Importance')\n",
        "plt.grid('y')\n",
        "plt.show()"
      ],
      "metadata": {
        "id": "7BkTVv_BeGmh",
        "colab": {
          "base_uri": "https://localhost:8080/",
          "height": 728
        },
        "outputId": "75f7e108-fc07-4756-f6b1-be8517c57e69"
      },
      "execution_count": null,
      "outputs": [
        {
          "output_type": "display_data",
          "data": {
            "text/plain": [
              "<Figure size 1200x600 with 1 Axes>"
            ],
            "image/png": "[encoded data removed]"
          },
          "metadata": {}
        }
      ]
    },
    {
      "cell_type": "markdown",
      "source": [
        "## Correlation Matrice Feature Selection"
      ],
      "metadata": {
        "id": "_AzwoVcRq6zJ"
      }
    },
    {
      "cell_type": "code",
      "source": [
        "# Select numeric columns\n",
        "data2 = data.copy()\n",
        "data2 = data.select_dtypes(include = ['number'])\n",
        "\n",
        "# Shuffle the dataset\n",
        "data2 = data2.sample(frac = 1, random_state = 42).reset_index(drop = True)\n",
        "\n",
        "# Define batch size\n",
        "batch_size = 118_108\n",
        "batches = [data2[i:i + batch_size] for i in range(0, len(data2), batch_size)]\n",
        "\n",
        "# Initialize correlation matrix\n",
        "corr_matrix = np.zeros((data2.shape[1], data2.shape[1]))\n",
        "\n",
        "# Compute correlation matrix in batches\n",
        "for batch in batches:\n",
        "    corr_matrix += np.corrcoef(batch, rowvar = False)\n",
        "\n",
        "# Average correlation matrix\n",
        "corr_matrix /= len(batches)\n",
        "\n",
        "# Select upper triangle of correlation matrix\n",
        "upper = np.triu(corr_matrix, k = 1)\n",
        "\n",
        "# Find features with correlation greater than 0.95\n",
        "to_drop = [column for column,\n",
        "           idx in zip(data2.columns, range(upper.shape[1]))\n",
        "           if any(upper[:, idx] > 0.95)]\n",
        "data2.drop(columns = to_drop, inplace = True)\n",
        "# Check the result\n",
        "print('Remaining columns:', data2.columns)"
      ],
      "metadata": {
        "id": "b5kp1u4cEi5o",
        "colab": {
          "base_uri": "https://localhost:8080/"
        },
        "outputId": "6cfa379e-5975-4876-fbb4-8362d67aa73e"
      },
      "execution_count": null,
      "outputs": [
        {
          "output_type": "stream",
          "name": "stdout",
          "text": [
            "Remaining columns: Index(['TransactionID', 'isFraud', 'TransactionAmt', 'card1', 'card2', 'card3',\n",
            "       'card5', 'addr1', 'addr2', 'dist1',\n",
            "       ...\n",
            "       'Cluster_88', 'Cluster_90', 'Cluster_91', 'Cluster_92', 'Cluster_94',\n",
            "       'Cluster_95', 'Cluster_96', 'Cluster_97', 'Cluster_98', 'Cluster_99'],\n",
            "      dtype='object', length=172)\n"
          ]
        }
      ]
    },
    {
      "cell_type": "markdown",
      "source": [
        "## Lasso Feature Selection"
      ],
      "metadata": {
        "id": "3g2HPopMak71"
      }
    },
    {
      "cell_type": "code",
      "source": [
        "# Separate features (X) and target (y)\n",
        "X = data.drop(columns = ['isFraud'])\n",
        "y = data['isFraud']\n",
        "\n",
        "# Identify categorical and numerical columns\n",
        "categorical_cols = X.select_dtypes(include = ['object', 'category']).columns\n",
        "numerical_cols = X.select_dtypes(include = ['number']).columns\n",
        "\n",
        "# Apply Label Encoding to categorical columns\n",
        "label_encoder = LabelEncoder()\n",
        "for col in categorical_cols:\n",
        "    X[col] = label_encoder.fit_transform(X[col])"
      ],
      "metadata": {
        "id": "FEengkAdo0MW"
      },
      "execution_count": null,
      "outputs": []
    },
    {
      "cell_type": "code",
      "source": [
        "# Standardize only the numerical columns with batch processing\n",
        "scaler = StandardScaler()\n",
        "batch_size = 118_108  # Adjust based on system's memory\n",
        "X_numerical_scaled = np.zeros_like(X[numerical_cols], dtype = np.float32)\n",
        "\n",
        "for i in range(0, len(X), batch_size):\n",
        "    batch = X[numerical_cols].iloc[i:i + batch_size]\n",
        "    X_numerical_scaled[i:i + batch_size] = scaler.fit_transform(batch)\n",
        "\n",
        "# Combine scaled numerical columns and label-encoded categorical columns\n",
        "X_scaled = np.hstack([X_numerical_scaled, X[categorical_cols].values])\n",
        "X_scaled.shape"
      ],
      "metadata": {
        "id": "zILef-Z3aAK8",
        "colab": {
          "base_uri": "https://localhost:8080/"
        },
        "outputId": "f4c48649-c3bf-432b-d48f-6f67d53a1ad8"
      },
      "execution_count": null,
      "outputs": [
        {
          "output_type": "execute_result",
          "data": {
            "text/plain": [
              "(590540, 277)"
            ]
          },
          "metadata": {},
          "execution_count": 5
        }
      ]
    },
    {
      "cell_type": "code",
      "source": [
        "# Split into train and test sets (time-based split)\n",
        "train_size = int(0.8 * len(data))\n",
        "X_train, X_test = X_scaled[:train_size], X_scaled[train_size:]\n",
        "y_train, y_test = y.iloc[:train_size], y.iloc[train_size:]\n",
        "\n",
        "# Handle missing values\n",
        "imputer = SimpleImputer(strategy = 'mean')\n",
        "X_train = imputer.fit_transform(X_train)\n",
        "X_test = imputer.transform(X_test)\n",
        "\n",
        "# Initialize Lasso model\n",
        "lasso = Lasso(alpha = 0.01, random_state = 42)\n",
        "\n",
        "# Fit the Lasso model\n",
        "lasso.fit(X_train, y_train)\n",
        "\n",
        "# Extract the coefficients of the features\n",
        "lasso_coefs = lasso.coef_\n",
        "\n",
        "# DataFrame to visualize feature importance\n",
        "feature_names = numerical_cols.tolist() + categorical_cols.tolist()\n",
        "feature_importance = pd.DataFrame({\n",
        "    'Feature': feature_names,\n",
        "    'Coefficient': lasso_coefs})\n",
        "\n",
        "# Sort features by the absolute value of their coefficients\n",
        "feature_importance['Abs_Coefficient'] = np.abs(feature_importance['Coefficient'])\n",
        "feature_importance = feature_importance.sort_values(by = 'Abs_Coefficient',\n",
        "                                                    ascending = False)\n",
        "\n",
        "# Display the top features with non-zero coefficients\n",
        "print('Top Features Selected by Lasso:')\n",
        "print(feature_importance[feature_importance['Coefficient'] != 0])"
      ],
      "metadata": {
        "colab": {
          "base_uri": "https://localhost:8080/"
        },
        "id": "e2nBbKz3pTnv",
        "outputId": "2b6a2fdd-7e7f-472d-c96e-5324c596c7b4"
      },
      "execution_count": null,
      "outputs": [
        {
          "output_type": "stream",
          "name": "stdout",
          "text": [
            "Top Features Selected by Lasso:\n",
            "                           Feature   Coefficient  Abs_Coefficient\n",
            "224                     Cluster_86  1.526808e-02     1.526808e-02\n",
            "176                     Cluster_28  9.738279e-03     9.738279e-03\n",
            "183                     Cluster_36  9.409286e-03     9.409286e-03\n",
            "22                             C12  8.846603e-03     8.846603e-03\n",
            "221                     Cluster_83  6.757605e-03     6.757605e-03\n",
            "151                      Cluster_3  5.746780e-03     5.746780e-03\n",
            "156                      Cluster_8  4.605761e-03     4.605761e-03\n",
            "157                      Cluster_9  4.152164e-03     4.152164e-03\n",
            "187                     Cluster_41  4.077496e-03     4.077496e-03\n",
            "194                     Cluster_49  2.994078e-03     2.994078e-03\n",
            "40                           id_01 -5.855301e-04     5.855301e-04\n",
            "267                    Email_Inter  3.497002e-04     3.497002e-04\n",
            "257                          id_31  1.469218e-04     1.469218e-04\n",
            "219                     Cluster_81  1.369372e-04     1.369372e-04\n",
            "275                          U_id2 -1.228277e-04     1.228277e-04\n",
            "258                          id_33 -1.166557e-04     1.166557e-04\n",
            "274                           U_id  7.303652e-05     7.303652e-05\n",
            "268                      Card_Addr  3.547467e-05     3.547467e-05\n",
            "265                     DeviceInfo  5.544908e-06     5.544908e-06\n",
            "276                          U_id3  1.918484e-06     1.918484e-06\n",
            "271                       M4_Inter  1.346920e-06     1.346920e-06\n",
            "272                 M4_Email_Inter -1.188732e-06     1.188732e-06\n",
            "270  Avg_TransactionAmt_Addr_Inter -1.175877e-06     1.175877e-06\n",
            "269                    Email_Free2  8.750770e-07     8.750770e-07\n",
            "266                Card_Mail_Inter  1.067808e-07     1.067808e-07\n",
            "273                           uuid  6.178249e-08     6.178249e-08\n"
          ]
        },
        {
          "output_type": "stream",
          "name": "stderr",
          "text": [
            "/usr/local/lib/python3.11/dist-packages/sklearn/linear_model/_coordinate_descent.py:695: ConvergenceWarning: Objective did not converge. You might want to increase the number of iterations, check the scale of the features or consider increasing regularisation. Duality gap: 6.061e+01, tolerance: 1.602e+00\n",
            "  model = cd_fast.enet_coordinate_descent(\n"
          ]
        }
      ]
    },
    {
      "cell_type": "markdown",
      "source": [
        "### Lasso V2 w/ Increased alpha"
      ],
      "metadata": {
        "id": "L3xSYob83kho"
      }
    },
    {
      "cell_type": "code",
      "source": [
        "# Split into train and test sets (time-based split)\n",
        "train_size = int(0.8 * len(data))\n",
        "X_train, X_test = X_scaled[:train_size], X_scaled[train_size:]\n",
        "y_train, y_test = y.iloc[:train_size], y.iloc[train_size:]\n",
        "\n",
        "# Handle missing values\n",
        "imputer = SimpleImputer(strategy = 'mean')\n",
        "X_train = imputer.fit_transform(X_train)\n",
        "X_test = imputer.transform(X_test)\n",
        "\n",
        "# Initialize Lasso model\n",
        "lasso2 = Lasso(alpha = 0.02, random_state = 42)\n",
        "\n",
        "# Fit the Lasso model\n",
        "lasso2.fit(X_train, y_train)\n",
        "\n",
        "# Extract the coefficients of the features\n",
        "lasso_coefs2 = lasso2.coef_\n",
        "\n",
        "# DataFrame to visualize feature importance\n",
        "feature_names = numerical_cols.tolist() + categorical_cols.tolist()\n",
        "feature_importance2 = pd.DataFrame({\n",
        "    'Feature': feature_names,\n",
        "    'Coefficient': lasso_coefs2})\n",
        "\n",
        "# Sort features by the absolute value of their coefficients\n",
        "feature_importance2['Abs_Coefficient'] = np.abs(feature_importance2['Coefficient'])\n",
        "feature_importance2 = feature_importance2.sort_values(by = 'Abs_Coefficient',\n",
        "                                                      ascending = False)\n",
        "\n",
        "# Display the top features with non-zero coefficients\n",
        "print('Top Features Selected by Lasso:')\n",
        "print(feature_importance2[feature_importance2['Coefficient'] != 0])"
      ],
      "metadata": {
        "colab": {
          "base_uri": "https://localhost:8080/"
        },
        "id": "iHoEqb2B3i-T",
        "outputId": "bd97eed5-001e-4f91-b16a-3df7169008f7"
      },
      "execution_count": null,
      "outputs": [
        {
          "output_type": "stream",
          "name": "stdout",
          "text": [
            "Top Features Selected by Lasso:\n",
            "                           Feature   Coefficient  Abs_Coefficient\n",
            "151                      Cluster_3  1.096648e-02     1.096648e-02\n",
            "224                     Cluster_86  1.055438e-02     1.055438e-02\n",
            "183                     Cluster_36  4.964216e-03     4.964216e-03\n",
            "176                     Cluster_28  1.625909e-03     1.625909e-03\n",
            "221                     Cluster_83  1.534568e-03     1.534568e-03\n",
            "267                    Email_Inter  2.094321e-04     2.094321e-04\n",
            "22                             C12  1.810503e-04     1.810503e-04\n",
            "258                          id_33 -1.225192e-04     1.225192e-04\n",
            "274                           U_id  8.838997e-05     8.838997e-05\n",
            "257                          id_31  8.684898e-05     8.684898e-05\n",
            "275                          U_id2 -7.814521e-05     7.814521e-05\n",
            "268                      Card_Addr  3.703824e-05     3.703824e-05\n",
            "265                     DeviceInfo  3.649145e-06     3.649145e-06\n",
            "270  Avg_TransactionAmt_Addr_Inter -1.487526e-06     1.487526e-06\n",
            "271                       M4_Inter  1.388662e-06     1.388662e-06\n",
            "276                          U_id3 -1.262834e-06     1.262834e-06\n",
            "272                 M4_Email_Inter -1.228735e-06     1.228735e-06\n",
            "269                    Email_Free2  9.198681e-07     9.198681e-07\n",
            "266                Card_Mail_Inter  1.157356e-07     1.157356e-07\n",
            "273                           uuid  7.731734e-08     7.731734e-08\n"
          ]
        },
        {
          "output_type": "stream",
          "name": "stderr",
          "text": [
            "/usr/local/lib/python3.11/dist-packages/sklearn/linear_model/_coordinate_descent.py:695: ConvergenceWarning: Objective did not converge. You might want to increase the number of iterations, check the scale of the features or consider increasing regularisation. Duality gap: 4.704e+00, tolerance: 1.602e+00\n",
            "  model = cd_fast.enet_coordinate_descent(\n"
          ]
        }
      ]
    },
    {
      "cell_type": "code",
      "source": [
        "# Define features list based on coefficient threshold\n",
        "lasso_features1 = ['Cluster_86', 'Cluster_28', 'Cluster_36', 'C12', 'Cluster_83',\n",
        "                   'Cluster_3', 'Cluster_8', 'Cluster_9', 'Cluster_41', 'Cluster_49',\n",
        "                   'id_01', 'Email_Inter', 'id_31', 'Cluster_81', 'U_id2', 'id_33',\n",
        "                   'U_id', 'Card_Addr']\n",
        "\n",
        "lasso_features2 = ['Cluster_3', 'Cluster_86', 'Cluster_36', 'Cluster_28', 'Cluster_83',\n",
        "                   'Email_Inter', 'C12', 'id_33', 'U_id', 'id_31', 'U_id2', 'Card_Addr']\n",
        "\n",
        "# Get the common features\n",
        "lasso_common = list(set(lasso_features1).intersection(lasso_features2))\n",
        "lasso_common"
      ],
      "metadata": {
        "colab": {
          "base_uri": "https://localhost:8080/"
        },
        "id": "dUR87UOs2sc4",
        "outputId": "ad6ee9a7-96ec-464d-f277-1ff1d8665a32"
      },
      "execution_count": null,
      "outputs": [
        {
          "output_type": "execute_result",
          "data": {
            "text/plain": [
              "['Cluster_3',\n",
              " 'Email_Inter',\n",
              " 'id_33',\n",
              " 'Cluster_83',\n",
              " 'Cluster_28',\n",
              " 'C12',\n",
              " 'Cluster_86',\n",
              " 'U_id',\n",
              " 'id_31',\n",
              " 'U_id2',\n",
              " 'Card_Addr',\n",
              " 'Cluster_36']"
            ]
          },
          "metadata": {},
          "execution_count": 8
        }
      ]
    },
    {
      "cell_type": "code",
      "source": [
        "# List the features based on LGBM feature importance graph\n",
        "# Eliminated features already present in Lasso)\n",
        "lgbm_features = ['Email_Free2', 'Card_Mail_Inter', 'M4_Email_Inter', 'M4_Inter',\n",
        "                 'uuid', 'Avg_TransactionAmt_Addr_Inter', 'U_id3', 'DeviceInfo',\n",
        "                 'C1', 'C13', 'C14', 'C11', 'TransactionAmtRatio', 'TransactionDT',\n",
        "                 'TransactionAmtRatio2', 'Cluster_49', 'M5', 'TransactionCount_Hour',\n",
        "                 'Cluster_36', 'C6', 'Cluster_3', 'card1_C8_Mean', 'Cluster_86', 'D1-DaysFromStart']\n",
        "len(lgbm_features)"
      ],
      "metadata": {
        "colab": {
          "base_uri": "https://localhost:8080/"
        },
        "id": "jP-wmIrb7CJ4",
        "outputId": "f0b19e65-5e17-4622-9435-8e0423e6345a"
      },
      "execution_count": null,
      "outputs": [
        {
          "output_type": "execute_result",
          "data": {
            "text/plain": [
              "24"
            ]
          },
          "metadata": {},
          "execution_count": 9
        }
      ]
    },
    {
      "cell_type": "code",
      "source": [
        "# Combine Lasso and LGBM features\n",
        "lasso_lgbm_features = lasso_common + lgbm_features\n",
        "len(lasso_lgbm_features)"
      ],
      "metadata": {
        "colab": {
          "base_uri": "https://localhost:8080/"
        },
        "id": "A9WbBps09S0x",
        "outputId": "f9f4061a-fdbf-4884-81b0-40d4328ce336"
      },
      "execution_count": null,
      "outputs": [
        {
          "output_type": "execute_result",
          "data": {
            "text/plain": [
              "36"
            ]
          },
          "metadata": {},
          "execution_count": 10
        }
      ]
    },
    {
      "cell_type": "code",
      "source": [
        "# Find the common features between Lasso + LGBM and Correlation Matrix\n",
        "correlation_features = data2.columns.to_list()\n",
        "common2 = list(set(lasso_lgbm_features).intersection(correlation_features))\n",
        "common2"
      ],
      "metadata": {
        "colab": {
          "base_uri": "https://localhost:8080/"
        },
        "id": "D2BMKp7-9g6V",
        "outputId": "6f915452-33fa-4789-8eb0-35102e4f750c"
      },
      "execution_count": null,
      "outputs": [
        {
          "output_type": "execute_result",
          "data": {
            "text/plain": [
              "['D1-DaysFromStart',\n",
              " 'Cluster_3',\n",
              " 'C13',\n",
              " 'Cluster_28',\n",
              " 'Cluster_83',\n",
              " 'Cluster_86',\n",
              " 'Cluster_49',\n",
              " 'C1',\n",
              " 'TransactionCount_Hour',\n",
              " 'Cluster_36']"
            ]
          },
          "metadata": {},
          "execution_count": 12
        }
      ]
    },
    {
      "cell_type": "code",
      "source": [
        "# Drop common features from the 'correlation_features'\n",
        "corr_features = list(set(correlation_features) - set(common2))\n",
        "corr_features"
      ],
      "metadata": {
        "colab": {
          "base_uri": "https://localhost:8080/"
        },
        "collapsed": true,
        "id": "ZIO_jE919xfO",
        "outputId": "fe96099d-673f-484d-85e3-5435b2543ff0"
      },
      "execution_count": null,
      "outputs": [
        {
          "output_type": "execute_result",
          "data": {
            "text/plain": [
              "['Cluster_25',\n",
              " 'Cluster_30',\n",
              " 'Cluster_85',\n",
              " 'id_20',\n",
              " 'id_07',\n",
              " 'Cluster_79',\n",
              " 'Cluster_74',\n",
              " 'Cluster_23',\n",
              " 'M4_TransactionAmt_Mean',\n",
              " 'Cluster_62',\n",
              " 'Cluster_34',\n",
              " 'id_03',\n",
              " 'D5',\n",
              " 'Cluster_73',\n",
              " 'Cluster_88',\n",
              " 'id_09',\n",
              " 'Cluster_94',\n",
              " 'Cluster_37',\n",
              " 'AvgTransactionAmt_Hour',\n",
              " 'id_01_C7_Mean',\n",
              " 'Cluster_76',\n",
              " 'id_32',\n",
              " 'Cluster_44',\n",
              " 'C9',\n",
              " 'Cluster_27',\n",
              " 'Cluster_12',\n",
              " 'D1',\n",
              " 'Cluster_24',\n",
              " 'D9',\n",
              " 'Cluster_54',\n",
              " 'TransactionID',\n",
              " 'D6',\n",
              " 'Cluster_4',\n",
              " 'Cluster_53',\n",
              " 'Cluster_55',\n",
              " 'Cluster_66',\n",
              " 'Cluster_98',\n",
              " 'card3_C13_Mean',\n",
              " 'D13',\n",
              " 'id_11',\n",
              " 'id_01',\n",
              " 'Cluster_9',\n",
              " 'Cluster_45',\n",
              " 'Cluster_67',\n",
              " 'card1',\n",
              " 'Cluster_15',\n",
              " 'C3',\n",
              " 'D3',\n",
              " 'id_13',\n",
              " 'Cluster_5',\n",
              " 'C5',\n",
              " 'Cluster_26',\n",
              " 'TransactionAmt',\n",
              " 'Cluster_20',\n",
              " 'Cluster_22',\n",
              " 'id_14',\n",
              " 'Cluster_7',\n",
              " 'id_02_C14_Mean',\n",
              " 'Cluster_43',\n",
              " 'Cluster_65',\n",
              " 'id_09_C1_Mean',\n",
              " 'Cluster_97',\n",
              " 'addr1',\n",
              " 'D7',\n",
              " 'Cluster_72',\n",
              " 'Cluster_96',\n",
              " 'Cluster_19',\n",
              " 'id_10',\n",
              " 'id_25',\n",
              " 'card3_C1_Mean',\n",
              " 'Cluster_18',\n",
              " 'D15',\n",
              " 'C7',\n",
              " 'D12',\n",
              " 'id_17',\n",
              " 'card1_C5_Mean',\n",
              " 'Cluster_14',\n",
              " 'Cluster_13',\n",
              " 'DayOfWeek',\n",
              " 'Days_LastTransaction',\n",
              " 'Cluster_77',\n",
              " 'Cluster_60',\n",
              " 'Cluster_51',\n",
              " 'id_09_C7_Mean',\n",
              " 'Cluster_38',\n",
              " 'HourDeviation',\n",
              " 'Cluster_32',\n",
              " 'Cluster_17',\n",
              " 'Cluster_41',\n",
              " 'id_01_C13_Mean',\n",
              " 'id_02',\n",
              " 'id_01_C1_Mean',\n",
              " 'Cluster_92',\n",
              " 'Cluster_99',\n",
              " 'id_24',\n",
              " 'Cluster_6',\n",
              " 'id_06',\n",
              " 'id_09_C5_Mean',\n",
              " 'D14',\n",
              " 'Cluster_56',\n",
              " 'isFraud',\n",
              " 'Hour',\n",
              " 'dist2',\n",
              " 'id_19',\n",
              " 'id_04',\n",
              " 'Cluster_46',\n",
              " 'Cluster_33',\n",
              " 'Cluster_1',\n",
              " 'Cluster_95',\n",
              " 'dist1',\n",
              " 'Avg_TransactionAmt',\n",
              " 'Cluster_21',\n",
              " 'Cluster_68',\n",
              " 'D2',\n",
              " 'Cluster_0',\n",
              " 'D4',\n",
              " 'id_26',\n",
              " 'card1_C1_Mean',\n",
              " 'card5',\n",
              " 'id_18',\n",
              " 'Avg_TransactionAmt2',\n",
              " 'id_02_C1_Mean',\n",
              " 'Cluster_47',\n",
              " 'Cluster_11',\n",
              " 'Cluster_58',\n",
              " 'card1_C13_Mean',\n",
              " 'Cluster_61',\n",
              " 'Cluster_75',\n",
              " 'D8',\n",
              " 'id_08',\n",
              " 'id_09_C13_Mean',\n",
              " 'card2',\n",
              " 'Cluster_57',\n",
              " 'UserPeakHour',\n",
              " 'Day',\n",
              " 'id_02_C13_Mean',\n",
              " 'id_22',\n",
              " 'Cluster_84',\n",
              " 'Cluster_69',\n",
              " 'id_05',\n",
              " 'Cluster_35',\n",
              " 'Cluster_90',\n",
              " 'Cluster_16',\n",
              " 'Cluster_39',\n",
              " 'id_21',\n",
              " 'Cluster_82',\n",
              " 'Cluster_59',\n",
              " 'Cluster_10',\n",
              " 'id_02_C5_Mean',\n",
              " 'M4_TransactionCount',\n",
              " 'Cluster_42',\n",
              " 'D10',\n",
              " 'Cluster_70',\n",
              " 'card1_C7_Mean',\n",
              " 'D11',\n",
              " 'Cluster_31',\n",
              " 'Cluster_8',\n",
              " 'Cluster_91',\n",
              " 'addr2',\n",
              " 'IsFreeEmail',\n",
              " 'card3',\n",
              " 'Cluster_81']"
            ]
          },
          "metadata": {},
          "execution_count": 13
        }
      ]
    },
    {
      "cell_type": "code",
      "source": [
        "# Create final feature list\n",
        "# Convert to set and back to list to remove duplicates\n",
        "final_features = list(set(lasso_lgbm_features + corr_features))\n",
        "selected_data = data[final_features]\n",
        "selected_data.shape"
      ],
      "metadata": {
        "colab": {
          "base_uri": "https://localhost:8080/"
        },
        "id": "0_IHOLMF-ab2",
        "outputId": "840b025c-5eed-4b79-c6dd-800b6465f6e6"
      },
      "execution_count": null,
      "outputs": [
        {
          "output_type": "execute_result",
          "data": {
            "text/plain": [
              "(590540, 195)"
            ]
          },
          "metadata": {},
          "execution_count": 14
        }
      ]
    },
    {
      "cell_type": "code",
      "source": [
        "selected_data.to_parquet('/content/drive/MyDrive/Colab Notebooks/fraud-detect/data/selected-data-yeto.parquet', engine = 'pyarrow', index = False)"
      ],
      "metadata": {
        "id": "L2x8NjUk_xUQ"
      },
      "execution_count": null,
      "outputs": []
    },
    {
      "cell_type": "markdown",
      "source": [
        "## Undersampling Majority Class"
      ],
      "metadata": {
        "id": "VQKV7GoVDlDv"
      }
    },
    {
      "cell_type": "code",
      "source": [
        "# Check the target feature label distribution\n",
        "selected_data['isFraud'].value_counts(normalize = True)"
      ],
      "metadata": {
        "colab": {
          "base_uri": "https://localhost:8080/",
          "height": 178
        },
        "id": "QbJ0WmqgDv5b",
        "outputId": "9673a16d-47f1-400b-d0a7-8476236e4355"
      },
      "execution_count": null,
      "outputs": [
        {
          "output_type": "execute_result",
          "data": {
            "text/plain": [
              "isFraud\n",
              "0    0.96501\n",
              "1    0.03499\n",
              "Name: proportion, dtype: float64"
            ],
            "text/html": [
              "<div>\n",
              "<style scoped>\n",
              "    .dataframe tbody tr th:only-of-type {\n",
              "        vertical-align: middle;\n",
              "    }\n",
              "\n",
              "    .dataframe tbody tr th {\n",
              "        vertical-align: top;\n",
              "    }\n",
              "\n",
              "    .dataframe thead th {\n",
              "        text-align: right;\n",
              "    }\n",
              "</style>\n",
              "<table border=\"1\" class=\"dataframe\">\n",
              "  <thead>\n",
              "    <tr style=\"text-align: right;\">\n",
              "      <th></th>\n",
              "      <th>proportion</th>\n",
              "    </tr>\n",
              "    <tr>\n",
              "      <th>isFraud</th>\n",
              "      <th></th>\n",
              "    </tr>\n",
              "  </thead>\n",
              "  <tbody>\n",
              "    <tr>\n",
              "      <th>0</th>\n",
              "      <td>0.96501</td>\n",
              "    </tr>\n",
              "    <tr>\n",
              "      <th>1</th>\n",
              "      <td>0.03499</td>\n",
              "    </tr>\n",
              "  </tbody>\n",
              "</table>\n",
              "</div><br><label><b>dtype:</b> float64</label>"
            ]
          },
          "metadata": {},
          "execution_count": 18
        }
      ]
    },
    {
      "cell_type": "markdown",
      "source": [
        "--> The dataset is severely imbalanced which is common in banking data.  \n",
        "--> Training model with imbalanced data will introduce bias and limit the generalizability of the model.  \n",
        "--> To bypass these issues, the majority class will be downsampled. Downsampling is chosen to preserve true nature of the dataset."
      ],
      "metadata": {
        "id": "8mooqj1Im0V_"
      }
    },
    {
      "cell_type": "code",
      "source": [
        "# Separate majority and minority classes\n",
        "majority_class = selected_data[selected_data['isFraud'] == 0]\n",
        "minority_class = selected_data[selected_data['isFraud'] == 1]\n",
        "\n",
        "# Define the desired class distribution\n",
        "majority_ratio = 0.9  # Majority class 90% of the dataset\n",
        "minority_ratio = 0.1  # Minority class 10% of the dataset\n",
        "\n",
        "# Calculate the total number of samples in the final dataset\n",
        "# Total_samples = number of minority samples / minority_ratio\n",
        "total_samples = int(len(minority_class) / minority_ratio)\n",
        "\n",
        "# Calculate the number of majority samples needed\n",
        "desired_majority_samples = int(total_samples * majority_ratio)\n",
        "\n",
        "# Randomly sample the majority class to achieve the desired number of samples\n",
        "# Use random sampling to ensure representativeness\n",
        "majority_class_undersampled = majority_class.sample(n = desired_majority_samples,\n",
        "                                                    random_state = 42)\n",
        "\n",
        "# Combine the undersampled majority class with the minority class\n",
        "undersampled_data = pd.concat([majority_class_undersampled, minority_class])\n",
        "\n",
        "# Sort by time to preserve temporal order\n",
        "undersampled_data = undersampled_data.sort_values(by='TransactionDT')\n",
        "\n",
        "# Check the class distribution\n",
        "print('Class distribution after undersampling:')\n",
        "print(undersampled_data['isFraud'].value_counts(normalize = True))"
      ],
      "metadata": {
        "colab": {
          "base_uri": "https://localhost:8080/"
        },
        "id": "_3f0SOuXFz2F",
        "outputId": "d38a0cbd-d8c6-4e2d-be6c-53c86c8eb4e5"
      },
      "execution_count": null,
      "outputs": [
        {
          "output_type": "stream",
          "name": "stdout",
          "text": [
            "Class distribution after undersampling:\n",
            "isFraud\n",
            "0    0.9\n",
            "1    0.1\n",
            "Name: proportion, dtype: float64\n"
          ]
        }
      ]
    },
    {
      "cell_type": "code",
      "source": [
        "# Analyze temporal gaps between minority and majority classes after downsampling\n",
        "def analyze_temporal_gaps(data, time_col = 'TransactionDT', target_col = 'isFraud'):\n",
        "\n",
        "    # Ensure 'TransactionDT' is a datetime column\n",
        "    if not pd.api.types.is_datetime64_any_dtype(data[time_col]):\n",
        "        data[time_col] = pd.to_datetime(data[time_col])\n",
        "\n",
        "    # Calculate the time difference between consecutive transactions\n",
        "    data['TimeDiff'] = data[time_col].diff()\n",
        "\n",
        "    # Separate majority and minority classes\n",
        "    majority = data[data[target_col] == 0]\n",
        "    minority = data[data[target_col] == 1]\n",
        "\n",
        "    # Calculate the average time difference for majority and minority classes\n",
        "    avg_time_diff_majority = majority['TimeDiff'].mean()\n",
        "    avg_time_diff_minority = minority['TimeDiff'].mean()\n",
        "\n",
        "    # Check for large gaps between minority and majority classes\n",
        "    max_time_diff = data['TimeDiff'].max()\n",
        "    min_time_diff = data['TimeDiff'].min()\n",
        "\n",
        "    print(\"\\nTemporal Gaps Analysis:\")\n",
        "    print(f\"Average time difference (majority): {avg_time_diff_majority}\")\n",
        "    print(f\"Average time difference (minority): {avg_time_diff_minority}\")\n",
        "    print(f\"Maximum time difference: {max_time_diff}\")\n",
        "    print(f\"Minimum time difference: {min_time_diff}\")\n",
        "\n",
        "    # Check if there are any large gaps (e.g., > 1 day)\n",
        "    large_gaps = data[data['TimeDiff'] > pd.Timedelta(days = 1)]\n",
        "    if not large_gaps.empty:\n",
        "        print('\\nWarning: Large temporal gaps detected between transactions!')\n",
        "        print(large_gaps)\n",
        "    else:\n",
        "        print('\\nNo large temporal gaps detected.')\n",
        "\n",
        "# Analyze temporal gaps in the undersampled data\n",
        "analyze_temporal_gaps(undersampled_data)"
      ],
      "metadata": {
        "colab": {
          "base_uri": "https://localhost:8080/"
        },
        "id": "SiZfUn0mIl1L",
        "outputId": "e39552f6-01ae-4fc4-9ca8-8f38c87b34a2"
      },
      "execution_count": null,
      "outputs": [
        {
          "output_type": "stream",
          "name": "stdout",
          "text": [
            "\n",
            "Temporal Gaps Analysis:\n",
            "Average time difference (majority): 0 days 00:00:00.000000075\n",
            "Average time difference (minority): 0 days 00:00:00.000000084\n",
            "Maximum time difference: 0 days 00:00:00.000008718\n",
            "Minimum time difference: 0 days 00:00:00\n",
            "\n",
            "No large temporal gaps detected.\n"
          ]
        }
      ]
    },
    {
      "cell_type": "markdown",
      "source": [
        "## CatBoost with Optuna"
      ],
      "metadata": {
        "id": "AYFywW4fbTsB"
      }
    },
    {
      "cell_type": "code",
      "source": [
        "# Separate features (X) and target (y)\n",
        "X = undersampled_data.drop(columns = ['isFraud'])\n",
        "y = undersampled_data['isFraud']\n",
        "\n",
        "# Identify categorical columns\n",
        "categorical_cols = X.select_dtypes(include = ['object', 'category']).columns"
      ],
      "metadata": {
        "id": "IJz8KskYJp27"
      },
      "execution_count": null,
      "outputs": []
    },
    {
      "cell_type": "code",
      "source": [
        "def objective(trial):\n",
        "    params = {\n",
        "        'iterations': trial.suggest_int('iterations', 500, 1000),\n",
        "        'learning_rate': trial.suggest_float('learning_rate', 0.01, 0.1, log=True)\n",
        "        'depth': trial.suggest_int('depth', 4, 7),\n",
        "        'l2_leaf_reg': trial.suggest_float('l2_leaf_reg', 1e-2, 10.0, log=True),\n",
        "        'random_strength': trial.suggest_float('random_strength', 1e-2, 10.0, log=True),\n",
        "        'scale_pos_weight': (len(y) - sum(y)) / sum(y),  # Handle class imbalance\n",
        "        'early_stopping_rounds': 50,  # Early stopping to prevent overfitting\n",
        "        'verbose': False,\n",
        "        'loss_function': 'Logloss',\n",
        "        'eval_metric': 'AUC',\n",
        "        'task_type': 'GPU',  # Enable GPU acceleration\n",
        "        'devices': '0:1', 'metric_period': 10000}\n",
        "\n",
        "    # Perform time-based cross-validation for time-sensitive data\n",
        "    cv_scores = []\n",
        "    tscv = TimeSeriesSplit(n_splits = 5)\n",
        "    for train_idx, val_idx in tscv.split(X):\n",
        "        X_train_fold, X_val_fold = X.iloc[train_idx], X.iloc[val_idx]\n",
        "        y_train_fold, y_val_fold = y.iloc[train_idx], y.iloc[val_idx]\n",
        "\n",
        "        # Create CatBoost Pool objects\n",
        "        train_pool = Pool(X_train_fold, y_train_fold,\n",
        "                          cat_features = categorical_cols.to_list())\n",
        "        val_pool = Pool(X_val_fold, y_val_fold,\n",
        "                        cat_features = categorical_cols.to_list())\n",
        "\n",
        "        # Train CatBoost model with early stopping\n",
        "        model = CatBoostClassifier(**params)\n",
        "        model.fit(train_pool, eval_set = val_pool, verbose = False,\n",
        "                  early_stopping_rounds = 50)\n",
        "\n",
        "        # Evaluate on validation fold\n",
        "        y_pred_val = model.predict_proba(val_pool)[:, 1]\n",
        "        cv_scores.append(roc_auc_score(y_val_fold, y_pred_val))\n",
        "\n",
        "    # Return the mean ROC-AUC score across folds\n",
        "    return np.mean(cv_scores)\n",
        "\n",
        "# Run Optuna optimization\n",
        "study = optuna.create_study(direction = 'maximize')\n",
        "study.optimize(objective, n_trials = 20)\n",
        "\n",
        "# Print the best parameters\n",
        "print('Best parameters:', study.best_params)"
      ],
      "metadata": {
        "colab": {
          "base_uri": "https://localhost:8080/"
        },
        "id": "2YwGaf5DJhWa",
        "outputId": "005c0c42-308f-47d0-e021-42b5ab9ca06e"
      },
      "execution_count": null,
      "outputs": [
        {
          "output_type": "stream",
          "name": "stderr",
          "text": [
            "[I 2025-02-28 20:35:39,779] A new study created in memory with name: no-name-37ad4692-1c01-41e5-b4e0-84ec58a01f15\n",
            "[I 2025-02-28 20:37:16,398] Trial 0 finished with value: 0.9224740402077023 and parameters: {'iterations': 855, 'learning_rate': 0.023886780805668646, 'depth': 6, 'l2_leaf_reg': 1.303189217491162, 'random_strength': 1.9538862021094483}. Best is trial 0 with value: 0.9224740402077023.\n",
            "[I 2025-02-28 20:39:46,379] Trial 1 finished with value: 0.9233949521413368 and parameters: {'iterations': 708, 'learning_rate': 0.017446887174241595, 'depth': 7, 'l2_leaf_reg': 7.2983994443062565, 'random_strength': 2.513152179710074}. Best is trial 1 with value: 0.9233949521413368.\n",
            "[I 2025-02-28 20:40:28,563] Trial 2 finished with value: 0.9222953303484143 and parameters: {'iterations': 779, 'learning_rate': 0.04551092324762769, 'depth': 4, 'l2_leaf_reg': 0.014674057339976536, 'random_strength': 1.048309663981955}. Best is trial 1 with value: 0.9233949521413368.\n",
            "[I 2025-02-28 20:41:16,812] Trial 3 finished with value: 0.9209129261479385 and parameters: {'iterations': 825, 'learning_rate': 0.042967533658436, 'depth': 7, 'l2_leaf_reg': 0.03897932716260863, 'random_strength': 0.5236745639076631}. Best is trial 1 with value: 0.9233949521413368.\n",
            "[I 2025-02-28 20:42:21,942] Trial 4 finished with value: 0.9225723638163329 and parameters: {'iterations': 894, 'learning_rate': 0.022620771527246633, 'depth': 5, 'l2_leaf_reg': 0.6031342963136669, 'random_strength': 0.970299765875852}. Best is trial 1 with value: 0.9233949521413368.\n",
            "[I 2025-02-28 20:44:35,670] Trial 5 finished with value: 0.9159587807361598 and parameters: {'iterations': 792, 'learning_rate': 0.013519868091252338, 'depth': 7, 'l2_leaf_reg': 0.8647231051650954, 'random_strength': 1.6518292949460176}. Best is trial 1 with value: 0.9233949521413368.\n",
            "[I 2025-02-28 20:45:39,722] Trial 6 finished with value: 0.9232567116226393 and parameters: {'iterations': 891, 'learning_rate': 0.028298064713469014, 'depth': 5, 'l2_leaf_reg': 0.7369168562580692, 'random_strength': 0.07343807202281487}. Best is trial 1 with value: 0.9233949521413368.\n",
            "[I 2025-02-28 20:46:16,933] Trial 7 finished with value: 0.9216769360858406 and parameters: {'iterations': 971, 'learning_rate': 0.07993444461745187, 'depth': 6, 'l2_leaf_reg': 3.223253027533607, 'random_strength': 0.010272260255756227}. Best is trial 1 with value: 0.9233949521413368.\n",
            "[I 2025-02-28 20:46:46,130] Trial 8 finished with value: 0.9240145926244461 and parameters: {'iterations': 746, 'learning_rate': 0.08996593615242837, 'depth': 4, 'l2_leaf_reg': 1.9008554881864907, 'random_strength': 0.12071785482228295}. Best is trial 8 with value: 0.9240145926244461.\n",
            "[I 2025-02-28 20:47:45,984] Trial 9 finished with value: 0.9220261699743755 and parameters: {'iterations': 789, 'learning_rate': 0.054692324415927016, 'depth': 7, 'l2_leaf_reg': 4.923677749470045, 'random_strength': 0.7394980668575111}. Best is trial 8 with value: 0.9240145926244461.\n",
            "[I 2025-02-28 20:48:24,271] Trial 10 finished with value: 0.9190584329884797 and parameters: {'iterations': 559, 'learning_rate': 0.08598999840188959, 'depth': 4, 'l2_leaf_reg': 0.10602145763158104, 'random_strength': 8.936053249634314}. Best is trial 8 with value: 0.9240145926244461.\n",
            "[I 2025-02-28 20:50:09,444] Trial 11 finished with value: 0.9224151907709723 and parameters: {'iterations': 658, 'learning_rate': 0.010429370815296171, 'depth': 5, 'l2_leaf_reg': 8.724591914752732, 'random_strength': 0.1008371004269021}. Best is trial 8 with value: 0.9240145926244461.\n",
            "[I 2025-02-28 20:51:54,795] Trial 12 finished with value: 0.9241549153108919 and parameters: {'iterations': 672, 'learning_rate': 0.015806419760809893, 'depth': 6, 'l2_leaf_reg': 2.816162915036996, 'random_strength': 0.13229598777278243}. Best is trial 12 with value: 0.9241549153108919.\n",
            "[I 2025-02-28 20:53:40,191] Trial 13 finished with value: 0.9246406458670375 and parameters: {'iterations': 627, 'learning_rate': 0.015818939331072583, 'depth': 6, 'l2_leaf_reg': 2.1826678402551565, 'random_strength': 0.12486136091411293}. Best is trial 13 with value: 0.9246406458670375.\n",
            "[I 2025-02-28 20:55:27,871] Trial 14 finished with value: 0.9237727343867782 and parameters: {'iterations': 617, 'learning_rate': 0.015005196857620697, 'depth': 6, 'l2_leaf_reg': 0.2969791450375088, 'random_strength': 0.027920306626792565}. Best is trial 13 with value: 0.9246406458670375.\n",
            "[I 2025-02-28 20:57:15,832] Trial 15 finished with value: 0.9215427169946396 and parameters: {'iterations': 517, 'learning_rate': 0.01004140323341489, 'depth': 6, 'l2_leaf_reg': 0.21222885458952753, 'random_strength': 0.2302120554727843}. Best is trial 13 with value: 0.9246406458670375.\n",
            "[I 2025-02-28 20:58:39,186] Trial 16 finished with value: 0.9235219967894676 and parameters: {'iterations': 622, 'learning_rate': 0.01881804153171352, 'depth': 6, 'l2_leaf_reg': 2.7494887165487985, 'random_strength': 0.03640906100782771}. Best is trial 13 with value: 0.9246406458670375.\n",
            "[I 2025-02-28 21:00:23,513] Trial 17 finished with value: 0.9235131244390598 and parameters: {'iterations': 701, 'learning_rate': 0.013145454912067684, 'depth': 5, 'l2_leaf_reg': 1.987815375057592, 'random_strength': 0.3033368015703358}. Best is trial 13 with value: 0.9246406458670375.\n",
            "[I 2025-02-28 21:01:12,482] Trial 18 finished with value: 0.9223787540946621 and parameters: {'iterations': 566, 'learning_rate': 0.032526429873809236, 'depth': 6, 'l2_leaf_reg': 0.11856947115810464, 'random_strength': 0.04880292910864995}. Best is trial 13 with value: 0.9246406458670375.\n",
            "[I 2025-02-28 21:02:35,830] Trial 19 finished with value: 0.9237671559847008 and parameters: {'iterations': 664, 'learning_rate': 0.019512118038811966, 'depth': 5, 'l2_leaf_reg': 4.868183815244427, 'random_strength': 0.1956192084509416}. Best is trial 13 with value: 0.9246406458670375.\n"
          ]
        },
        {
          "output_type": "stream",
          "name": "stdout",
          "text": [
            "Best parameters: {'iterations': 627, 'learning_rate': 0.015818939331072583, 'depth': 6, 'l2_leaf_reg': 2.1826678402551565, 'random_strength': 0.12486136091411293}\n"
          ]
        }
      ]
    },
    {
      "cell_type": "markdown",
      "source": [
        "### Performance Evaluation"
      ],
      "metadata": {
        "id": "f0i3EzBhciCR"
      }
    },
    {
      "cell_type": "code",
      "source": [
        "# Split the data into train and test sets (time-based split)\n",
        "train_size = int(0.8 * len(X))\n",
        "X_train, X_test = X.iloc[:train_size], X.iloc[train_size:]\n",
        "y_train, y_test = y.iloc[:train_size], y.iloc[train_size:]\n",
        "\n",
        "# Create CatBoost Pool objects for training and testing\n",
        "train_pool = Pool(X_train, y_train, cat_features = categorical_cols.to_list())\n",
        "test_pool = Pool(X_test, y_test, cat_features = categorical_cols.to_list())\n",
        "\n",
        "# Train the final model with the best hyperparameters\n",
        "final_model = CatBoostClassifier(**study.best_params)\n",
        "final_model.fit(train_pool, verbose = False)\n",
        "\n",
        "# Evaluate on the test set\n",
        "y_pred_proba = final_model.predict_proba(test_pool)[:, 1]\n",
        "y_pred = (y_pred_proba >= 0.5).astype(int)  # Convert probabilities to binary predictions\n",
        "\n",
        "# Calculate evaluation metrics\n",
        "roc_auc = roc_auc_score(y_test, y_pred_proba)\n",
        "precision, recall, _ = precision_recall_curve(y_test, y_pred_proba)\n",
        "pr_auc = auc(recall, precision)\n",
        "\n",
        "# Print evaluation metrics\n",
        "print(\"Test ROC-AUC Score:\", roc_auc)\n",
        "print(\"Test Precision-Recall AUC Score:\", pr_auc)\n",
        "print(\"--*--\"*10)\n",
        "print(\"\\nClassification Report:\")\n",
        "print(classification_report(y_test, y_pred))"
      ],
      "metadata": {
        "colab": {
          "base_uri": "https://localhost:8080/"
        },
        "id": "kjadE3bxYL2a",
        "outputId": "c10abaa0-6fe3-4bc0-81b8-dc74039d88f1"
      },
      "execution_count": null,
      "outputs": [
        {
          "output_type": "stream",
          "name": "stdout",
          "text": [
            "Test ROC-AUC Score: 0.9349955089802992\n",
            "Test Precision-Recall AUC Score: 0.769157715299838\n",
            "--*----*----*----*----*----*----*----*----*----*--\n",
            "\n",
            "Classification Report:\n",
            "              precision    recall  f1-score   support\n",
            "\n",
            "           0       0.95      1.00      0.97     37254\n",
            "           1       0.93      0.51      0.66      4072\n",
            "\n",
            "    accuracy                           0.95     41326\n",
            "   macro avg       0.94      0.75      0.82     41326\n",
            "weighted avg       0.95      0.95      0.94     41326\n",
            "\n"
          ]
        }
      ]
    },
    {
      "cell_type": "code",
      "source": [
        "# Plot confusion matrix\n",
        "conf_matrix = confusion_matrix(y_test, y_pred)\n",
        "plt.figure(figsize = (6, 4))\n",
        "sns.heatmap(conf_matrix, annot = True, fmt = 'd', cmap = 'Greens',\n",
        "            xticklabels = ['Non-Fraud', 'Fraud'],\n",
        "            yticklabels = ['Non-Fraud', 'Fraud'])\n",
        "plt.title('Confusion Matrix')\n",
        "plt.xlabel('Predicted')\n",
        "plt.ylabel('Actual')\n",
        "plt.show()"
      ],
      "metadata": {
        "colab": {
          "base_uri": "https://localhost:8080/",
          "height": 410
        },
        "id": "aCxLigLDYkvj",
        "outputId": "a7c93efb-fb49-47a7-f693-9271eb0f24cf"
      },
      "execution_count": null,
      "outputs": [
        {
          "output_type": "display_data",
          "data": {
            "text/plain": [
              "<Figure size 600x400 with 2 Axes>"
            ],
            "image/png": "[encoded data removed]"
          },
          "metadata": {}
        }
      ]
    },
    {
      "cell_type": "code",
      "source": [
        "# Plot ROC curve\n",
        "fig, axes = plt.subplots(1, 2, figsize = (12, 6))\n",
        "fpr, tpr, _ = roc_curve(y_test, y_pred_proba)\n",
        "axes[0].plot(fpr, tpr, label=f'ROC Curve (AUC = {roc_auc:.2f})', color = 'teal')\n",
        "axes[0].plot([0, 1], [0, 1], 'k--')\n",
        "axes[0].set_xlabel('False Positive Rate')\n",
        "axes[0].set_ylabel('True Positive Rate')\n",
        "axes[0].set_title('ROC Curve')\n",
        "axes[0].legend()\n",
        "\n",
        "# Plot Precision-Recall curve\n",
        "axes[1].plot(recall, precision,\n",
        "             label = f'Precision-Recall Curve (AUC = {pr_auc:.2f})',\n",
        "             color = 'crimson')\n",
        "axes[1].set_xlabel('Recall')\n",
        "axes[1].set_ylabel('Precision')\n",
        "axes[1].set_title('Precision-Recall Curve')\n",
        "axes[1].legend()\n",
        "plt.show()"
      ],
      "metadata": {
        "colab": {
          "base_uri": "https://localhost:8080/",
          "height": 564
        },
        "id": "80fBwyu7YNtC",
        "outputId": "4345b8df-f150-4ed7-9803-20bf588ca7eb"
      },
      "execution_count": null,
      "outputs": [
        {
          "output_type": "display_data",
          "data": {
            "text/plain": [
              "<Figure size 1200x600 with 2 Axes>"
            ],
            "image/png": "[encoded data removed]"
          },
          "metadata": {}
        }
      ]
    },
    {
      "cell_type": "code",
      "source": [
        "feature_importance = pd.DataFrame({'feature_importance': final_model.get_feature_importance(train_pool),\n",
        "                                   'feature_names': X_train.columns})\n",
        "feature_importance = feature_importance[feature_importance['feature_importance'] > 0].sort_values(by = 'feature_importance', ascending = False)\n",
        "plt.figure(figsize = (12, 4))\n",
        "plt.bar(feature_importance['feature_names'].head(50),\n",
        "        feature_importance['feature_importance'].head(50), color = 'slateblue')\n",
        "plt.xticks(rotation = 90)\n",
        "plt.title('CatBoost Top 50 Feature Importance')\n",
        "plt.grid('y')\n",
        "sns.despine()\n",
        "plt.show()"
      ],
      "metadata": {
        "colab": {
          "base_uri": "https://localhost:8080/",
          "height": 557
        },
        "id": "tG1zF9pqdcDO",
        "outputId": "0865081b-8356-4e67-f4c5-d7168e6a5308"
      },
      "execution_count": null,
      "outputs": [
        {
          "output_type": "display_data",
          "data": {
            "text/plain": [
              "<Figure size 1200x400 with 1 Axes>"
            ],
            "image/png": "[encoded data removed]"
          },
          "metadata": {}
        }
      ]
    },
    {
      "cell_type": "markdown",
      "source": [
        "## CatBoost with Optuna V2"
      ],
      "metadata": {
        "id": "9REQQcTHgdNv"
      }
    },
    {
      "cell_type": "code",
      "source": [
        "# Separate features (X) and target (y)\n",
        "X = undersampled_data.drop(columns = ['isFraud'])\n",
        "y = undersampled_data['isFraud']\n",
        "\n",
        "# Identify categorical columns\n",
        "categorical_cols = X.select_dtypes(include = ['object', 'category']).columns"
      ],
      "metadata": {
        "id": "5mf-2olkhSmS"
      },
      "execution_count": null,
      "outputs": []
    },
    {
      "cell_type": "code",
      "source": [
        "scale_pos_weight = (len(y) - sum(y)) / sum(y)  # majority/minority class\n",
        "\n",
        "def objective2(trial):\n",
        "    params = {\n",
        "        'iterations': trial.suggest_int('iterations', 500, 2000),\n",
        "        'learning_rate': trial.suggest_float('learning_rate', 0.01, 0.2, log=True),\n",
        "        'depth': trial.suggest_int('depth', 4, 10),\n",
        "        'l2_leaf_reg': trial.suggest_float('l2_leaf_reg', 1e-2, 10.0, log=True),\n",
        "        'random_strength': trial.suggest_float('random_strength', 1e-2, 10.0, log=True),\n",
        "        'scale_pos_weight': trial.suggest_float('scale_pos_weight',\n",
        "                                                scale_pos_weight * 0.5,\n",
        "                                                scale_pos_weight * 2),\n",
        "        'loss_function': 'Logloss',\n",
        "        'eval_metric': 'AUC',\n",
        "        'early_stopping_rounds': 50,\n",
        "        'verbose': False,\n",
        "        'task_type': 'GPU',\n",
        "        'devices': '0:1', 'metric_period': 10000}\n",
        "\n",
        "    # Perform time-based cross-validation\n",
        "    cv_scores = []\n",
        "    tscv = TimeSeriesSplit(n_splits = 5)\n",
        "    for train_idx, val_idx in tscv.split(X):\n",
        "        X_train_fold, X_val_fold = X.iloc[train_idx], X.iloc[val_idx]\n",
        "        y_train_fold, y_val_fold = y.iloc[train_idx], y.iloc[val_idx]\n",
        "\n",
        "        # Create CatBoost Pool objects\n",
        "        train_pool = Pool(X_train_fold, y_train_fold,\n",
        "                          cat_features = categorical_cols.to_list())\n",
        "        val_pool = Pool(X_val_fold, y_val_fold,\n",
        "                        cat_features = categorical_cols.to_list())\n",
        "\n",
        "        # Train CatBoost model with early stopping\n",
        "        model = CatBoostClassifier(**params)\n",
        "        model.fit(train_pool, eval_set = val_pool,\n",
        "                  verbose = False, early_stopping_rounds = 50)\n",
        "\n",
        "        # Evaluate on validation fold\n",
        "        y_pred_val = model.predict_proba(val_pool)[:, 1]\n",
        "        cv_scores.append(roc_auc_score(y_val_fold, y_pred_val))\n",
        "\n",
        "    # Return the mean ROC-AUC score across folds\n",
        "    return np.mean(cv_scores)\n",
        "\n",
        "# Run Optuna optimization\n",
        "study2 = optuna.create_study(direction = 'maximize')\n",
        "study2.optimize(objective2, n_trials = 12)\n",
        "\n",
        "# Print the best parameters\n",
        "print('Best parameters2:', study2.best_params)"
      ],
      "metadata": {
        "colab": {
          "base_uri": "https://localhost:8080/"
        },
        "id": "cul56mDVgoSl",
        "outputId": "6c94b829-1306-414d-d3f2-d7fcb2cf823d"
      },
      "execution_count": null,
      "outputs": [
        {
          "output_type": "stream",
          "name": "stderr",
          "text": [
            "[I 2025-02-28 21:55:04,136] A new study created in memory with name: no-name-59495a03-f487-4d03-9c1a-25cf6afac9be\n",
            "[I 2025-02-28 21:56:03,906] Trial 0 finished with value: 0.9159982982860445 and parameters: {'iterations': 1915, 'learning_rate': 0.07074879183136391, 'depth': 8, 'l2_leaf_reg': 0.2618112032369601, 'random_strength': 0.7437800602210366, 'scale_pos_weight': 17.912242200923032}. Best is trial 0 with value: 0.9159982982860445.\n",
            "[I 2025-02-28 21:56:38,135] Trial 1 finished with value: 0.9160009575841046 and parameters: {'iterations': 1878, 'learning_rate': 0.19915254012208766, 'depth': 8, 'l2_leaf_reg': 5.291583228964113, 'random_strength': 0.5237609296066892, 'scale_pos_weight': 15.35775367423493}. Best is trial 1 with value: 0.9160009575841046.\n",
            "[I 2025-02-28 21:58:50,381] Trial 2 finished with value: 0.9185724948127361 and parameters: {'iterations': 815, 'learning_rate': 0.06942211209261068, 'depth': 10, 'l2_leaf_reg': 9.599325664184022, 'random_strength': 3.345665597078866, 'scale_pos_weight': 10.341524588947655}. Best is trial 2 with value: 0.9185724948127361.\n",
            "[I 2025-02-28 22:02:54,971] Trial 3 finished with value: 0.9169300786169247 and parameters: {'iterations': 836, 'learning_rate': 0.02303060362801215, 'depth': 10, 'l2_leaf_reg': 0.47276080640577534, 'random_strength': 2.0603871480005496, 'scale_pos_weight': 13.287740071230308}. Best is trial 2 with value: 0.9185724948127361.\n",
            "[I 2025-02-28 22:03:58,482] Trial 4 finished with value: 0.922149915973932 and parameters: {'iterations': 979, 'learning_rate': 0.027581020752774525, 'depth': 4, 'l2_leaf_reg': 0.011712887182458257, 'random_strength': 0.30170578313326124, 'scale_pos_weight': 12.054039754865446}. Best is trial 4 with value: 0.922149915973932.\n",
            "[I 2025-02-28 22:05:31,158] Trial 5 finished with value: 0.9247331510886999 and parameters: {'iterations': 1215, 'learning_rate': 0.030621871654355783, 'depth': 5, 'l2_leaf_reg': 3.181558491601218, 'random_strength': 3.759912614917542, 'scale_pos_weight': 9.08150346652263}. Best is trial 5 with value: 0.9247331510886999.\n",
            "[I 2025-02-28 22:08:03,073] Trial 6 finished with value: 0.9188456871937323 and parameters: {'iterations': 1808, 'learning_rate': 0.03934667600839664, 'depth': 10, 'l2_leaf_reg': 2.401144546539281, 'random_strength': 0.06523833501659887, 'scale_pos_weight': 10.115616741933067}. Best is trial 5 with value: 0.9247331510886999.\n",
            "[I 2025-02-28 22:08:31,226] Trial 7 finished with value: 0.9229486608041103 and parameters: {'iterations': 1200, 'learning_rate': 0.10659211268625918, 'depth': 5, 'l2_leaf_reg': 9.458976637513208, 'random_strength': 0.08759062164790964, 'scale_pos_weight': 14.175516021222608}. Best is trial 5 with value: 0.9247331510886999.\n",
            "[I 2025-02-28 22:08:56,338] Trial 8 finished with value: 0.921696895003844 and parameters: {'iterations': 858, 'learning_rate': 0.12674760796557277, 'depth': 5, 'l2_leaf_reg': 5.90596983372014, 'random_strength': 0.09416402263859903, 'scale_pos_weight': 13.660863153717447}. Best is trial 5 with value: 0.9247331510886999.\n",
            "[I 2025-02-28 22:10:19,411] Trial 9 finished with value: 0.9129403958383641 and parameters: {'iterations': 596, 'learning_rate': 0.03491655446886583, 'depth': 9, 'l2_leaf_reg': 0.021912366833414274, 'random_strength': 0.059812674768582444, 'scale_pos_weight': 14.267829504579943}. Best is trial 5 with value: 0.9247331510886999.\n",
            "[I 2025-02-28 22:13:40,038] Trial 10 finished with value: 0.9228245175931585 and parameters: {'iterations': 1527, 'learning_rate': 0.012367413533141915, 'depth': 6, 'l2_leaf_reg': 0.8666332990756331, 'random_strength': 9.190951332830634, 'scale_pos_weight': 5.983654914459695}. Best is trial 5 with value: 0.9247331510886999.\n",
            "[I 2025-02-28 22:15:09,744] Trial 11 finished with value: 0.9233504575446994 and parameters: {'iterations': 1272, 'learning_rate': 0.016006148161576444, 'depth': 6, 'l2_leaf_reg': 1.6626500358567855, 'random_strength': 0.022946019609682636, 'scale_pos_weight': 7.062184006019723}. Best is trial 5 with value: 0.9247331510886999.\n"
          ]
        },
        {
          "output_type": "stream",
          "name": "stdout",
          "text": [
            "Best parameters2: {'iterations': 1215, 'learning_rate': 0.030621871654355783, 'depth': 5, 'l2_leaf_reg': 3.181558491601218, 'random_strength': 3.759912614917542, 'scale_pos_weight': 9.08150346652263}\n"
          ]
        }
      ]
    },
    {
      "cell_type": "code",
      "source": [
        "# Split the data into train and test sets (time-based split)\n",
        "train_size = int(0.8 * len(X))\n",
        "X_train, X_test = X.iloc[:train_size], X.iloc[train_size:]\n",
        "y_train, y_test = y.iloc[:train_size], y.iloc[train_size:]\n",
        "\n",
        "# Create CatBoost Pool objects for training and testing\n",
        "train_pool = Pool(X_train, y_train, cat_features = categorical_cols.to_list())\n",
        "test_pool = Pool(X_test, y_test, cat_features = categorical_cols.to_list())\n",
        "\n",
        "# Train the final model with the best hyperparameters\n",
        "final_model2 = CatBoostClassifier(**study2.best_params)\n",
        "final_model2.fit(train_pool, verbose = False)\n",
        "\n",
        "# Evaluate on the test set\n",
        "y_pred_proba = final_model2.predict_proba(test_pool)[:, 1]\n",
        "y_pred = (y_pred_proba >= 0.5).astype(int)\n",
        "\n",
        "# Calculate evaluation metrics\n",
        "roc_auc = roc_auc_score(y_test, y_pred_proba)\n",
        "precision, recall, _ = precision_recall_curve(y_test, y_pred_proba)\n",
        "pr_auc = auc(recall, precision)\n",
        "\n",
        "# Print evaluation metrics\n",
        "print(\"Test ROC-AUC Score:\", roc_auc)\n",
        "print(\"Test Precision-Recall AUC Score:\", pr_auc)\n",
        "print(\"--*--\"*10)\n",
        "print(\"\\nClassification Report:\")\n",
        "print(classification_report(y_test, y_pred))"
      ],
      "metadata": {
        "colab": {
          "base_uri": "https://localhost:8080/"
        },
        "id": "6j8tGVlBndDQ",
        "outputId": "8fc32ac7-3c9f-4c1c-f5f2-6a5aee7024e7"
      },
      "execution_count": null,
      "outputs": [
        {
          "output_type": "stream",
          "name": "stdout",
          "text": [
            "Test ROC-AUC Score: 0.9377018282500327\n",
            "Test Precision-Recall AUC Score: 0.7706138987594071\n",
            "--*----*----*----*----*----*----*----*----*----*--\n",
            "\n",
            "Classification Report:\n",
            "              precision    recall  f1-score   support\n",
            "\n",
            "           0       0.98      0.91      0.94     37254\n",
            "           1       0.49      0.80      0.60      4072\n",
            "\n",
            "    accuracy                           0.90     41326\n",
            "   macro avg       0.73      0.85      0.77     41326\n",
            "weighted avg       0.93      0.90      0.91     41326\n",
            "\n"
          ]
        }
      ]
    },
    {
      "cell_type": "code",
      "source": [
        "# Plot confusion matrix\n",
        "conf_matrix = confusion_matrix(y_test, y_pred)\n",
        "plt.figure(figsize = (6, 4))\n",
        "sns.heatmap(conf_matrix, annot = True, fmt = 'd', cmap = 'Blues',\n",
        "            xticklabels = ['Non-Fraud', 'Fraud'],\n",
        "            yticklabels = ['Non-Fraud', 'Fraud'])\n",
        "plt.title('Confusion Matrix')\n",
        "plt.xlabel('Predicted')\n",
        "plt.ylabel('Actual')\n",
        "plt.show()"
      ],
      "metadata": {
        "colab": {
          "base_uri": "https://localhost:8080/",
          "height": 410
        },
        "id": "PB1f4K2LpZtl",
        "outputId": "8832583a-ade7-487e-ea4b-a4c375944287"
      },
      "execution_count": null,
      "outputs": [
        {
          "output_type": "display_data",
          "data": {
            "text/plain": [
              "<Figure size 600x400 with 2 Axes>"
            ],
            "image/png": "[encoded data removed]"
          },
          "metadata": {}
        }
      ]
    },
    {
      "cell_type": "markdown",
      "source": [
        "## Save Trained CatBoost"
      ],
      "metadata": {
        "id": "P4VjCilvqd6C"
      }
    },
    {
      "cell_type": "code",
      "source": [
        "# Save the model\n",
        "model_filename = '/content/drive/MyDrive/Colab Notebooks/fraud-detect/catboost_model2.cbm'\n",
        "final_model2.save_model(model_filename)"
      ],
      "metadata": {
        "id": "_kx_uyUBpe5h"
      },
      "execution_count": null,
      "outputs": []
    },
    {
      "cell_type": "markdown",
      "source": [
        "## CatBoost without undersampling"
      ],
      "metadata": {
        "id": "q7HRxAU50hhb"
      }
    },
    {
      "cell_type": "code",
      "source": [
        "# Separate features (X) and target (y)\n",
        "X = selected.drop(columns = ['isFraud'])\n",
        "y = selected['isFraud']\n",
        "\n",
        "# Identify categorical columns\n",
        "categorical_cols = X.select_dtypes(include = ['object', 'category']).columns\n",
        "\n",
        "# majority/minority class\n",
        "scale_pos_weight = (len(y) - sum(y)) / sum(y)"
      ],
      "metadata": {
        "id": "KPvU1P4y0s2G"
      },
      "execution_count": null,
      "outputs": []
    },
    {
      "cell_type": "code",
      "source": [
        "scale_pos_weight = (len(y) - sum(y)) / sum(y)  # majority/minority class\n",
        "\n",
        "def objective3(trial):\n",
        "    params = {\n",
        "        'iterations': trial.suggest_int('iterations', 500, 2000),\n",
        "        'learning_rate': trial.suggest_float('learning_rate', 0.01, 0.2, log=True),\n",
        "        'depth': trial.suggest_int('depth', 4, 10),\n",
        "        'l2_leaf_reg': trial.suggest_float('l2_leaf_reg', 1e-2, 10.0, log=True),\n",
        "        'random_strength': trial.suggest_float('random_strength', 1e-2, 10.0, log=True),\n",
        "        'scale_pos_weight': trial.suggest_float('scale_pos_weight',\n",
        "                                                scale_pos_weight * 0.5,\n",
        "                                                scale_pos_weight * 2),\n",
        "        'loss_function': 'Logloss',\n",
        "        'eval_metric': 'AUC',\n",
        "        'early_stopping_rounds': 50,\n",
        "        'verbose': False,\n",
        "        'task_type': 'GPU',\n",
        "        'devices': '0:1', 'metric_period': 10000}\n",
        "\n",
        "    # Perform time-based cross-validation\n",
        "    cv_scores = []\n",
        "    tscv = TimeSeriesSplit(n_splits = 5)\n",
        "    for train_idx, val_idx in tscv.split(X):\n",
        "        X_train_fold, X_val_fold = X.iloc[train_idx], X.iloc[val_idx]\n",
        "        y_train_fold, y_val_fold = y.iloc[train_idx], y.iloc[val_idx]\n",
        "\n",
        "        # Create CatBoost Pool objects\n",
        "        train_pool = Pool(X_train_fold, y_train_fold,\n",
        "                          cat_features = categorical_cols.to_list())\n",
        "        val_pool = Pool(X_val_fold, y_val_fold,\n",
        "                        cat_features = categorical_cols.to_list())\n",
        "\n",
        "        # Train CatBoost model with early stopping\n",
        "        model = CatBoostClassifier(**params)\n",
        "        model.fit(train_pool, eval_set = val_pool,\n",
        "                  verbose = False, early_stopping_rounds = 50)\n",
        "\n",
        "        # Evaluate on validation fold\n",
        "        y_pred_val = model.predict_proba(val_pool)[:, 1]\n",
        "        cv_scores.append(roc_auc_score(y_val_fold, y_pred_val))\n",
        "\n",
        "    # Return the mean ROC-AUC score across folds\n",
        "    return np.mean(cv_scores)\n",
        "\n",
        "# Run Optuna optimization\n",
        "study3 = optuna.create_study(direction = 'maximize')\n",
        "study3.optimize(objective3, n_trials = 20)\n",
        "\n",
        "# Print the best parameters\n",
        "print('Best parameters3:', study3.best_params)"
      ],
      "metadata": {
        "colab": {
          "base_uri": "https://localhost:8080/"
        },
        "id": "dO6XvgLn0vuy",
        "outputId": "48df16cf-7ce3-4635-fb50-04bac3e0bb0c"
      },
      "execution_count": null,
      "outputs": [
        {
          "output_type": "stream",
          "name": "stderr",
          "text": [
            "[I 2025-03-02 21:48:56,952] A new study created in memory with name: no-name-672ab86c-8f9a-4fd7-a51c-228c12056128\n",
            "[I 2025-03-02 21:50:11,417] Trial 0 finished with value: 0.9297424337197822 and parameters: {'iterations': 627, 'learning_rate': 0.12092849947954301, 'depth': 4, 'l2_leaf_reg': 0.3566206743923763, 'random_strength': 0.021723895989061482, 'scale_pos_weight': 20.90386217606183}. Best is trial 0 with value: 0.9297424337197822.\n",
            "[I 2025-03-02 21:54:19,545] Trial 1 finished with value: 0.9346612701457714 and parameters: {'iterations': 1237, 'learning_rate': 0.03373431114021464, 'depth': 6, 'l2_leaf_reg': 5.9352175624998695, 'random_strength': 4.558182993781433, 'scale_pos_weight': 17.020345150284438}. Best is trial 1 with value: 0.9346612701457714.\n",
            "[I 2025-03-02 21:56:06,769] Trial 2 finished with value: 0.9074926631751629 and parameters: {'iterations': 1066, 'learning_rate': 0.058117218413508975, 'depth': 10, 'l2_leaf_reg': 0.05862206569173954, 'random_strength': 9.347747445874003, 'scale_pos_weight': 31.40750703210648}. Best is trial 1 with value: 0.9346612701457714.\n",
            "[I 2025-03-02 21:58:17,010] Trial 3 finished with value: 0.9164565216689142 and parameters: {'iterations': 1412, 'learning_rate': 0.047982074055428335, 'depth': 10, 'l2_leaf_reg': 0.3353447076243018, 'random_strength': 0.5882146039937864, 'scale_pos_weight': 34.39608870734396}. Best is trial 1 with value: 0.9346612701457714.\n",
            "[I 2025-03-02 22:05:08,120] Trial 4 finished with value: 0.9290118451223879 and parameters: {'iterations': 775, 'learning_rate': 0.01625991923091305, 'depth': 10, 'l2_leaf_reg': 0.9651459247932132, 'random_strength': 0.07007142544212333, 'scale_pos_weight': 17.584707848383882}. Best is trial 1 with value: 0.9346612701457714.\n",
            "[I 2025-03-02 22:06:59,622] Trial 5 finished with value: 0.9232181360298066 and parameters: {'iterations': 1375, 'learning_rate': 0.04190239094138853, 'depth': 9, 'l2_leaf_reg': 0.3921003926772289, 'random_strength': 4.273945506426821, 'scale_pos_weight': 51.86424891012866}. Best is trial 1 with value: 0.9346612701457714.\n",
            "[I 2025-03-02 22:11:22,303] Trial 6 finished with value: 0.931509001158574 and parameters: {'iterations': 721, 'learning_rate': 0.014071752300782624, 'depth': 7, 'l2_leaf_reg': 1.0514128826958078, 'random_strength': 0.07610524763845203, 'scale_pos_weight': 27.712825382033202}. Best is trial 1 with value: 0.9346612701457714.\n",
            "[I 2025-03-02 22:12:41,515] Trial 7 finished with value: 0.9089284618170025 and parameters: {'iterations': 1062, 'learning_rate': 0.1809810095129248, 'depth': 10, 'l2_leaf_reg': 0.184205059519501, 'random_strength': 1.486333717723335, 'scale_pos_weight': 20.937218383147957}. Best is trial 1 with value: 0.9346612701457714.\n",
            "[I 2025-03-02 22:20:38,937] Trial 8 finished with value: 0.9256942841011278 and parameters: {'iterations': 1670, 'learning_rate': 0.010111162879761248, 'depth': 10, 'l2_leaf_reg': 0.6165709859447358, 'random_strength': 0.2712971008701784, 'scale_pos_weight': 40.34596741260003}. Best is trial 1 with value: 0.9346612701457714.\n",
            "[I 2025-03-02 22:24:56,382] Trial 9 finished with value: 0.9227409448025753 and parameters: {'iterations': 1393, 'learning_rate': 0.013185212001936637, 'depth': 9, 'l2_leaf_reg': 0.018116430254771797, 'random_strength': 0.016802146027584862, 'scale_pos_weight': 39.956704363361894}. Best is trial 1 with value: 0.9346612701457714.\n",
            "[I 2025-03-02 22:29:05,837] Trial 10 finished with value: 0.9337823939356087 and parameters: {'iterations': 1866, 'learning_rate': 0.02576927545861794, 'depth': 5, 'l2_leaf_reg': 4.217465231397858, 'random_strength': 1.9844195484141107, 'scale_pos_weight': 15.113467026307319}. Best is trial 1 with value: 0.9346612701457714.\n",
            "[I 2025-03-02 22:33:42,663] Trial 11 finished with value: 0.934085471217208 and parameters: {'iterations': 1962, 'learning_rate': 0.027998085576931224, 'depth': 5, 'l2_leaf_reg': 9.541409883842665, 'random_strength': 2.0804219832692175, 'scale_pos_weight': 14.898447740947875}. Best is trial 1 with value: 0.9346612701457714.\n",
            "[I 2025-03-02 22:37:57,526] Trial 12 finished with value: 0.9332636384054428 and parameters: {'iterations': 1973, 'learning_rate': 0.028839625706880284, 'depth': 6, 'l2_leaf_reg': 7.617794020860872, 'random_strength': 9.841553588152449, 'scale_pos_weight': 25.159179769146313}. Best is trial 1 with value: 0.9346612701457714.\n",
            "[I 2025-03-02 22:39:44,913] Trial 13 finished with value: 0.9322612224176652 and parameters: {'iterations': 1669, 'learning_rate': 0.08120655791425406, 'depth': 6, 'l2_leaf_reg': 2.35622835501946, 'random_strength': 1.070627326228388, 'scale_pos_weight': 15.848137459066828}. Best is trial 1 with value: 0.9346612701457714.\n",
            "[I 2025-03-02 22:42:59,725] Trial 14 finished with value: 0.9323382801434187 and parameters: {'iterations': 1082, 'learning_rate': 0.02693980848171838, 'depth': 4, 'l2_leaf_reg': 8.587738985411598, 'random_strength': 3.221948084995446, 'scale_pos_weight': 24.42755202158376}. Best is trial 1 with value: 0.9346612701457714.\n",
            "[I 2025-03-02 22:46:13,347] Trial 15 finished with value: 0.9310000002019482 and parameters: {'iterations': 1658, 'learning_rate': 0.020421335013099867, 'depth': 6, 'l2_leaf_reg': 2.23492514940338, 'random_strength': 0.3308046707787577, 'scale_pos_weight': 52.726102733900206}. Best is trial 1 with value: 0.9346612701457714.\n",
            "[I 2025-03-02 22:49:12,921] Trial 16 finished with value: 0.9335103105651218 and parameters: {'iterations': 925, 'learning_rate': 0.03743648809145987, 'depth': 5, 'l2_leaf_reg': 3.2717058067166285, 'random_strength': 4.385955922532527, 'scale_pos_weight': 14.31350035396475}. Best is trial 1 with value: 0.9346612701457714.\n",
            "[I 2025-03-02 22:50:38,468] Trial 17 finished with value: 0.927783444939547 and parameters: {'iterations': 1254, 'learning_rate': 0.07047344437863998, 'depth': 7, 'l2_leaf_reg': 0.11029808302204902, 'random_strength': 0.708711108493811, 'scale_pos_weight': 42.3064675575029}. Best is trial 1 with value: 0.9346612701457714.\n",
            "[I 2025-03-02 22:53:53,156] Trial 18 finished with value: 0.9336520140309027 and parameters: {'iterations': 502, 'learning_rate': 0.034311450419204526, 'depth': 7, 'l2_leaf_reg': 9.64530385192475, 'random_strength': 2.817190972150524, 'scale_pos_weight': 20.83482137674187}. Best is trial 1 with value: 0.9346612701457714.\n",
            "[I 2025-03-02 22:58:19,649] Trial 19 finished with value: 0.9322162903408169 and parameters: {'iterations': 1525, 'learning_rate': 0.019590382688418742, 'depth': 5, 'l2_leaf_reg': 1.3756905904393957, 'random_strength': 0.2683801095640094, 'scale_pos_weight': 30.475206494006066}. Best is trial 1 with value: 0.9346612701457714.\n"
          ]
        },
        {
          "output_type": "stream",
          "name": "stdout",
          "text": [
            "Best parameters3: {'iterations': 1237, 'learning_rate': 0.03373431114021464, 'depth': 6, 'l2_leaf_reg': 5.9352175624998695, 'random_strength': 4.558182993781433, 'scale_pos_weight': 17.020345150284438}\n"
          ]
        }
      ]
    },
    {
      "cell_type": "code",
      "source": [
        "# Split the data into train and test sets (time-based split)\n",
        "train_size = int(0.8 * len(X))\n",
        "X_train, X_test = X.iloc[:train_size], X.iloc[train_size:]\n",
        "y_train, y_test = y.iloc[:train_size], y.iloc[train_size:]\n",
        "\n",
        "# Create CatBoost Pool objects for training and testing\n",
        "train_pool = Pool(X_train, y_train, cat_features = categorical_cols.to_list())\n",
        "test_pool = Pool(X_test, y_test, cat_features = categorical_cols.to_list())\n",
        "\n",
        "# Train the final model with the best hyperparameters\n",
        "final_model3 = CatBoostClassifier(iterations = 1237, learning_rate = 0.0337,\n",
        "                                  depth = 6, l2_leaf_reg = 5.9352,\n",
        "                                  random_strength = 4.5582, scale_pos_weight = 17.0203,\n",
        "                                  loss_function = 'Logloss',\n",
        "                                  eval_metric = 'AUC',\n",
        "                                  verbose = False,\n",
        "                                  task_type = 'GPU',\n",
        "                                  devices = '0:1', metric_period = 10000)\n",
        "final_model3.fit(train_pool, early_stopping_rounds = 50, verbose = False)\n",
        "\n",
        "# Evaluate on the test set\n",
        "y_pred_proba = final_model3.predict_proba(test_pool)[:, 1]\n",
        "y_pred = (y_pred_proba >= 0.5).astype(int)\n",
        "\n",
        "# Calculate evaluation metrics\n",
        "roc_auc = roc_auc_score(y_test, y_pred_proba)\n",
        "precision, recall, _ = precision_recall_curve(y_test, y_pred_proba)\n",
        "pr_auc = auc(recall, precision)\n",
        "\n",
        "# Print evaluation metrics\n",
        "print(\"Test ROC-AUC Score:\", roc_auc)\n",
        "print(\"Test Precision-Recall AUC Score:\", pr_auc)\n",
        "print(\"--*--\"*10)\n",
        "print(\"\\nClassification Report:\")\n",
        "print(classification_report(y_test, y_pred))"
      ],
      "metadata": {
        "id": "dcKhQ1CR1Iuc",
        "colab": {
          "base_uri": "https://localhost:8080/"
        },
        "outputId": "4e5f1f02-c8ac-4415-b10a-dada01adeffb"
      },
      "execution_count": null,
      "outputs": [
        {
          "output_type": "stream",
          "name": "stdout",
          "text": [
            "Test ROC-AUC Score: 0.9425599448320403\n",
            "Test Precision-Recall AUC Score: 0.6461407914362267\n",
            "--*----*----*----*----*----*----*----*----*----*--\n",
            "\n",
            "Classification Report:\n",
            "              precision    recall  f1-score   support\n",
            "\n",
            "           0       0.99      0.93      0.96    114044\n",
            "           1       0.29      0.77      0.42      4064\n",
            "\n",
            "    accuracy                           0.93    118108\n",
            "   macro avg       0.64      0.85      0.69    118108\n",
            "weighted avg       0.97      0.93      0.94    118108\n",
            "\n"
          ]
        }
      ]
    }
  ]
}